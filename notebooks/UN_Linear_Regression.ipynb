{
 "cells": [
  {
   "cell_type": "markdown",
   "id": "779797d9-9aa3-4f08-ae4a-70458bfe5465",
   "metadata": {},
   "source": [
    "# Linear Regression Practice"
   ]
  },
  {
   "cell_type": "markdown",
   "id": "89f86946-b7e8-4ef9-9e8c-f8df7f4cee31",
   "metadata": {},
   "source": [
    "For this exercise, you've been provided with a csv file, gdp_le.csv, which contains the gdp per capita and life expectancy values that you were working with on the UN data exercise."
   ]
  },
  {
   "cell_type": "code",
   "execution_count": 1,
   "id": "6c667d44-3fbe-41f9-921a-a3df0bd0d943",
   "metadata": {},
   "outputs": [],
   "source": [
    "import pandas as pd\n",
    "import numpy as np\n",
    "import matplotlib.pyplot as plt\n",
    "import statsmodels.formula.api as smf"
   ]
  },
  {
   "cell_type": "code",
   "execution_count": 2,
   "id": "fc35daee-ca04-4646-89e1-48bfc0db2cfa",
   "metadata": {},
   "outputs": [
    {
     "data": {
      "text/html": [
       "<div>\n",
       "<style scoped>\n",
       "    .dataframe tbody tr th:only-of-type {\n",
       "        vertical-align: middle;\n",
       "    }\n",
       "\n",
       "    .dataframe tbody tr th {\n",
       "        vertical-align: top;\n",
       "    }\n",
       "\n",
       "    .dataframe thead th {\n",
       "        text-align: right;\n",
       "    }\n",
       "</style>\n",
       "<table border=\"1\" class=\"dataframe\">\n",
       "  <thead>\n",
       "    <tr style=\"text-align: right;\">\n",
       "      <th></th>\n",
       "      <th>Country</th>\n",
       "      <th>Year</th>\n",
       "      <th>GDP_Per_Capita</th>\n",
       "      <th>Continent</th>\n",
       "      <th>Life_Expectancy</th>\n",
       "    </tr>\n",
       "  </thead>\n",
       "  <tbody>\n",
       "    <tr>\n",
       "      <th>0</th>\n",
       "      <td>Afghanistan</td>\n",
       "      <td>2021</td>\n",
       "      <td>1517.016266</td>\n",
       "      <td>Asia</td>\n",
       "      <td>61.982</td>\n",
       "    </tr>\n",
       "    <tr>\n",
       "      <th>1</th>\n",
       "      <td>Afghanistan</td>\n",
       "      <td>2020</td>\n",
       "      <td>1968.341002</td>\n",
       "      <td>Asia</td>\n",
       "      <td>62.575</td>\n",
       "    </tr>\n",
       "    <tr>\n",
       "      <th>2</th>\n",
       "      <td>Afghanistan</td>\n",
       "      <td>2019</td>\n",
       "      <td>2079.921861</td>\n",
       "      <td>Asia</td>\n",
       "      <td>63.565</td>\n",
       "    </tr>\n",
       "    <tr>\n",
       "      <th>3</th>\n",
       "      <td>Afghanistan</td>\n",
       "      <td>2018</td>\n",
       "      <td>2060.698973</td>\n",
       "      <td>Asia</td>\n",
       "      <td>63.081</td>\n",
       "    </tr>\n",
       "    <tr>\n",
       "      <th>4</th>\n",
       "      <td>Afghanistan</td>\n",
       "      <td>2017</td>\n",
       "      <td>2096.093111</td>\n",
       "      <td>Asia</td>\n",
       "      <td>63.016</td>\n",
       "    </tr>\n",
       "    <tr>\n",
       "      <th>...</th>\n",
       "      <td>...</td>\n",
       "      <td>...</td>\n",
       "      <td>...</td>\n",
       "      <td>...</td>\n",
       "      <td>...</td>\n",
       "    </tr>\n",
       "    <tr>\n",
       "      <th>5499</th>\n",
       "      <td>Zimbabwe</td>\n",
       "      <td>1994</td>\n",
       "      <td>2670.106615</td>\n",
       "      <td>Africa</td>\n",
       "      <td>52.588</td>\n",
       "    </tr>\n",
       "    <tr>\n",
       "      <th>5500</th>\n",
       "      <td>Zimbabwe</td>\n",
       "      <td>1993</td>\n",
       "      <td>2458.783255</td>\n",
       "      <td>Africa</td>\n",
       "      <td>54.426</td>\n",
       "    </tr>\n",
       "    <tr>\n",
       "      <th>5501</th>\n",
       "      <td>Zimbabwe</td>\n",
       "      <td>1992</td>\n",
       "      <td>2468.278257</td>\n",
       "      <td>Africa</td>\n",
       "      <td>56.435</td>\n",
       "    </tr>\n",
       "    <tr>\n",
       "      <th>5502</th>\n",
       "      <td>Zimbabwe</td>\n",
       "      <td>1991</td>\n",
       "      <td>2781.787843</td>\n",
       "      <td>Africa</td>\n",
       "      <td>58.091</td>\n",
       "    </tr>\n",
       "    <tr>\n",
       "      <th>5503</th>\n",
       "      <td>Zimbabwe</td>\n",
       "      <td>1990</td>\n",
       "      <td>2704.757299</td>\n",
       "      <td>Africa</td>\n",
       "      <td>59.426</td>\n",
       "    </tr>\n",
       "  </tbody>\n",
       "</table>\n",
       "<p>5504 rows × 5 columns</p>\n",
       "</div>"
      ],
      "text/plain": [
       "          Country  Year  GDP_Per_Capita Continent  Life_Expectancy\n",
       "0     Afghanistan  2021     1517.016266      Asia           61.982\n",
       "1     Afghanistan  2020     1968.341002      Asia           62.575\n",
       "2     Afghanistan  2019     2079.921861      Asia           63.565\n",
       "3     Afghanistan  2018     2060.698973      Asia           63.081\n",
       "4     Afghanistan  2017     2096.093111      Asia           63.016\n",
       "...           ...   ...             ...       ...              ...\n",
       "5499     Zimbabwe  1994     2670.106615    Africa           52.588\n",
       "5500     Zimbabwe  1993     2458.783255    Africa           54.426\n",
       "5501     Zimbabwe  1992     2468.278257    Africa           56.435\n",
       "5502     Zimbabwe  1991     2781.787843    Africa           58.091\n",
       "5503     Zimbabwe  1990     2704.757299    Africa           59.426\n",
       "\n",
       "[5504 rows x 5 columns]"
      ]
     },
     "execution_count": 2,
     "metadata": {},
     "output_type": "execute_result"
    }
   ],
   "source": [
    "gdp_le = pd.read_csv('../data/gdp_le.csv')\n",
    "gdp_le"
   ]
  },
  {
   "cell_type": "markdown",
   "id": "d6b50e78-198b-436b-9bef-d297b11b6434",
   "metadata": {},
   "source": [
    "Start by fitting a linear regression model with target being life expectancy and predictor variable year."
   ]
  },
  {
   "cell_type": "code",
   "execution_count": 6,
   "id": "c8cb377b-2c31-4fdb-b095-7392f1076dbd",
   "metadata": {},
   "outputs": [
    {
     "data": {
      "text/plain": [
       "Intercept   -468.138140\n",
       "Year           0.267722\n",
       "dtype: float64"
      ]
     },
     "execution_count": 6,
     "metadata": {},
     "output_type": "execute_result"
    }
   ],
   "source": [
    "lr_gdp_le = smf.ols(\"Life_Expectancy ~ Year\", data=gdp_le).fit()\n",
    "lr_gdp_le.params"
   ]
  },
  {
   "cell_type": "markdown",
   "id": "29a5b724-9218-41bc-aecb-836a5559d28b",
   "metadata": {},
   "source": [
    "a. What coefficients do you get? Interpret the meaning of these coefficents."
   ]
  },
  {
   "cell_type": "markdown",
   "id": "791cbe33-0773-48cc-bf65-67f0d4758d47",
   "metadata": {},
   "source": [
    "Our increase will be 0.2677(Year) starting at -468.138 on the Life Expectancy."
   ]
  },
  {
   "cell_type": "markdown",
   "id": "68fab08f-7422-49ee-97b6-a08370087324",
   "metadata": {},
   "source": [
    "b. Using just the year makes the intercept term difficult to interpret. Create a new model, but this time use years since 1990 as your predictor variable. Hint: You can the patsy identity function to modify your predictors in your model formula. Inspect the new coefficients and interpret the meaning of them. Are they statistically significant?"
   ]
  },
  {
   "cell_type": "code",
   "execution_count": 26,
   "id": "8db2e6fa-34bd-444e-b5f8-6038afcc6760",
   "metadata": {},
   "outputs": [],
   "source": [
    "gdp_le['year_since_1990']= gdp_le['Year']-1990\n",
    "#gdp_le.plot(kind=\"scatter\", x=\"Life_Expectancy\", y=\"Year\")"
   ]
  },
  {
   "cell_type": "code",
   "execution_count": 28,
   "id": "a5753756-815e-4ee4-bcdf-7276fe1f166c",
   "metadata": {},
   "outputs": [
    {
     "data": {
      "text/plain": [
       "Intercept   -468.138140\n",
       "Year           0.267722\n",
       "dtype: float64"
      ]
     },
     "execution_count": 28,
     "metadata": {},
     "output_type": "execute_result"
    }
   ],
   "source": [
    "lr_gdp_le = smf.ols(\"Life_Expectancy ~ Year\", data=gdp_le).fit()\n",
    "lr_gdp_le.params\n",
    "\n",
    "#make this work"
   ]
  },
  {
   "cell_type": "code",
   "execution_count": null,
   "id": "11e34f30-2fc4-4092-a310-af0052d24430",
   "metadata": {},
   "outputs": [],
   "source": [
    "y ~ a + a:b + np.log(x)"
   ]
  },
  {
   "cell_type": "markdown",
   "id": "ece5348a-d9c4-4cae-bd08-279e01f6a5c5",
   "metadata": {},
   "source": [
    "c. Compare the actual mean life expectancy per year to the model's estimate. How well does it do?"
   ]
  },
  {
   "cell_type": "code",
   "execution_count": null,
   "id": "d6c0dc5b-2701-4185-b75b-f0d9d8f70f97",
   "metadata": {},
   "outputs": [],
   "source": []
  },
  {
   "cell_type": "markdown",
   "id": "6c5816eb-5967-4889-89a3-0f9c62158a4f",
   "metadata": {},
   "source": [
    "d. Plot the actual values against your model's estimates for the mean life expectancy."
   ]
  },
  {
   "cell_type": "code",
   "execution_count": null,
   "id": "c9142921-861e-46e7-b2b0-8051ae541eb0",
   "metadata": {},
   "outputs": [],
   "source": []
  },
  {
   "cell_type": "markdown",
   "id": "2bd4128c-a635-4d10-a5c8-48fb1e988005",
   "metadata": {},
   "source": [
    "e. Inspect the R-squared value for the model. does it make sense, given the plot?"
   ]
  },
  {
   "cell_type": "code",
   "execution_count": null,
   "id": "9f0fc54c-6399-4205-bb24-91822f0f2fcd",
   "metadata": {},
   "outputs": [],
   "source": []
  },
  {
   "cell_type": "markdown",
   "id": "6351bf98-9386-4cdd-9a15-f40ef2a82e97",
   "metadata": {},
   "source": [
    "Filter the full dataset down to just the year 2021. Fit a linear regression model with target being life expectancy and predictor variable gdp per capita."
   ]
  },
  {
   "cell_type": "code",
   "execution_count": null,
   "id": "54dd2624-3d54-43cc-a802-d979e93840ee",
   "metadata": {},
   "outputs": [],
   "source": []
  },
  {
   "cell_type": "markdown",
   "id": "657eff16-3588-4b9e-bcdd-299a712475fb",
   "metadata": {},
   "source": [
    "a. What coefficients do you get? Interpret the meaning of those coefficients."
   ]
  },
  {
   "cell_type": "code",
   "execution_count": null,
   "id": "52370dc8-18bf-4130-a2b2-821baadb8cd3",
   "metadata": {},
   "outputs": [],
   "source": []
  },
  {
   "cell_type": "markdown",
   "id": "7e65c777-85dc-47e5-858d-5feb10afb642",
   "metadata": {},
   "source": [
    "b. Refit your model, but this time use thousands of dollars of gdp per capita as your predictor. How does this change your coefficients?"
   ]
  },
  {
   "cell_type": "code",
   "execution_count": null,
   "id": "2214b213-ebb5-490a-99f7-d825844b056b",
   "metadata": {},
   "outputs": [],
   "source": []
  },
  {
   "cell_type": "markdown",
   "id": "692dae45-b48f-457d-8a16-3327682e87f8",
   "metadata": {},
   "source": [
    "c. Are the coefficients statistically significant?"
   ]
  },
  {
   "cell_type": "code",
   "execution_count": null,
   "id": "2f593f34-bdd3-4a37-84ad-95b50f2a045e",
   "metadata": {},
   "outputs": [],
   "source": []
  },
  {
   "cell_type": "markdown",
   "id": "c52b257c-da7c-40eb-84fa-066a11988aea",
   "metadata": {},
   "source": [
    "d. What does your model estimate for the mean life expectancy for a country whose gdp per capita is $50,000? What about one whose gdp per capita is $100,000?"
   ]
  },
  {
   "cell_type": "code",
   "execution_count": null,
   "id": "45836698-85eb-4c05-8c3e-72cdfe9ea185",
   "metadata": {},
   "outputs": [],
   "source": []
  },
  {
   "cell_type": "markdown",
   "id": "33e88788-db6f-4ea1-960a-dec8a0ea0eb9",
   "metadata": {},
   "source": [
    "e. Plot the actual values compared to your model's estimates for mean life expectancy. How would you assess the model's fit?"
   ]
  },
  {
   "cell_type": "code",
   "execution_count": null,
   "id": "1c7c7c76-809c-41f2-86a0-86a89e85e2db",
   "metadata": {},
   "outputs": [],
   "source": []
  },
  {
   "cell_type": "markdown",
   "id": "471b031f-c310-4643-814a-f21e243369c9",
   "metadata": {},
   "source": [
    "Now, fit a model for life expectancy based on the log of gdp per capita."
   ]
  },
  {
   "cell_type": "code",
   "execution_count": null,
   "id": "b6bc2677-0fd0-436a-8ac2-a3a547acbfb4",
   "metadata": {},
   "outputs": [],
   "source": []
  },
  {
   "cell_type": "markdown",
   "id": "0179419b-9bea-4384-92ab-dd4658894d0f",
   "metadata": {},
   "source": [
    "a. Inspect the coefficients for this model. Are they statistically significant? "
   ]
  },
  {
   "cell_type": "code",
   "execution_count": null,
   "id": "2b5c7e05-f057-41e4-a428-215a4ad90ff1",
   "metadata": {},
   "outputs": [],
   "source": []
  },
  {
   "cell_type": "markdown",
   "id": "fa2437cb-5e36-413c-8549-f1bd0308202e",
   "metadata": {},
   "source": [
    "b. Interpret these coefficients. What does the model estimate for the average life expectancy for countries with a gdp per capita of $50,000? What about for those with a gdp per capita of $100,000? "
   ]
  },
  {
   "cell_type": "code",
   "execution_count": null,
   "id": "34a6105c-c266-4516-bd4c-97f27ff1446f",
   "metadata": {},
   "outputs": [],
   "source": []
  },
  {
   "cell_type": "markdown",
   "id": "eb1f2230-3d35-497c-a063-256e3ffab917",
   "metadata": {},
   "source": [
    "c. Plot the actual values compared to your models' estimates for the mean life expectancy. How does this compare to the non-logged model?"
   ]
  },
  {
   "cell_type": "code",
   "execution_count": null,
   "id": "ecb44704-c041-4c53-8057-f2dd7bc55e17",
   "metadata": {},
   "outputs": [],
   "source": []
  },
  {
   "cell_type": "markdown",
   "id": "2214fbba-e1eb-4d78-af95-c39397b0564b",
   "metadata": {},
   "source": [
    "Finally, return to the full dataset."
   ]
  },
  {
   "cell_type": "code",
   "execution_count": null,
   "id": "53ea8f30-35d1-4f87-8698-0331985b9f58",
   "metadata": {},
   "outputs": [],
   "source": []
  },
  {
   "cell_type": "markdown",
   "id": "fb46527f-5dfb-46a3-b4f0-3fe1cb12b71b",
   "metadata": {},
   "source": [
    "a. First, fit a linear regression model for life expectancy based on the log of gdp per capita. "
   ]
  },
  {
   "cell_type": "code",
   "execution_count": null,
   "id": "71575093-8321-4c93-a175-9aadf15b8019",
   "metadata": {},
   "outputs": [],
   "source": []
  },
  {
   "cell_type": "markdown",
   "id": "506a590c-e41f-410d-8f81-0037082d289c",
   "metadata": {},
   "source": [
    "b. Then, add the year variable to your model. How can you interpret the coefficient associated with year? What limitations or weaknesses might this model have?"
   ]
  },
  {
   "cell_type": "code",
   "execution_count": null,
   "id": "1a4c2e6a-2d7c-417a-a116-998dd4af840f",
   "metadata": {},
   "outputs": [],
   "source": []
  }
 ],
 "metadata": {
  "kernelspec": {
   "display_name": "Python [conda env:base] *",
   "language": "python",
   "name": "conda-base-py"
  },
  "language_info": {
   "codemirror_mode": {
    "name": "ipython",
    "version": 3
   },
   "file_extension": ".py",
   "mimetype": "text/x-python",
   "name": "python",
   "nbconvert_exporter": "python",
   "pygments_lexer": "ipython3",
   "version": "3.13.5"
  }
 },
 "nbformat": 4,
 "nbformat_minor": 5
}
