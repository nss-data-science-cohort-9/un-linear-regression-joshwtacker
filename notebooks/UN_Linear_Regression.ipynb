{
 "cells": [
  {
   "cell_type": "markdown",
   "id": "779797d9-9aa3-4f08-ae4a-70458bfe5465",
   "metadata": {},
   "source": [
    "# Linear Regression Practice"
   ]
  },
  {
   "cell_type": "markdown",
   "id": "89f86946-b7e8-4ef9-9e8c-f8df7f4cee31",
   "metadata": {},
   "source": [
    "For this exercise, you've been provided with a csv file, gdp_le.csv, which contains the gdp per capita and life expectancy values that you were working with on the UN data exercise."
   ]
  },
  {
   "cell_type": "code",
   "execution_count": 1,
   "id": "6c667d44-3fbe-41f9-921a-a3df0bd0d943",
   "metadata": {},
   "outputs": [],
   "source": [
    "import pandas as pd\n",
    "import numpy as np\n",
    "import matplotlib.pyplot as plt\n",
    "import statsmodels as sm\n",
    "from statsmodels.tsa import stattools\n",
    "import statsmodels.formula.api as smf\n",
    "import statsmodels.stats.api as sms\n",
    "import scipy as sp\n",
    "from scipy.stats import probplot"
   ]
  },
  {
   "cell_type": "code",
   "execution_count": 2,
   "id": "fc35daee-ca04-4646-89e1-48bfc0db2cfa",
   "metadata": {},
   "outputs": [
    {
     "data": {
      "text/html": [
       "<div>\n",
       "<style scoped>\n",
       "    .dataframe tbody tr th:only-of-type {\n",
       "        vertical-align: middle;\n",
       "    }\n",
       "\n",
       "    .dataframe tbody tr th {\n",
       "        vertical-align: top;\n",
       "    }\n",
       "\n",
       "    .dataframe thead th {\n",
       "        text-align: right;\n",
       "    }\n",
       "</style>\n",
       "<table border=\"1\" class=\"dataframe\">\n",
       "  <thead>\n",
       "    <tr style=\"text-align: right;\">\n",
       "      <th></th>\n",
       "      <th>Country</th>\n",
       "      <th>Year</th>\n",
       "      <th>GDP_Per_Capita</th>\n",
       "      <th>Continent</th>\n",
       "      <th>Life_Expectancy</th>\n",
       "    </tr>\n",
       "  </thead>\n",
       "  <tbody>\n",
       "    <tr>\n",
       "      <th>0</th>\n",
       "      <td>Afghanistan</td>\n",
       "      <td>2021</td>\n",
       "      <td>1517.016266</td>\n",
       "      <td>Asia</td>\n",
       "      <td>61.982</td>\n",
       "    </tr>\n",
       "    <tr>\n",
       "      <th>1</th>\n",
       "      <td>Afghanistan</td>\n",
       "      <td>2020</td>\n",
       "      <td>1968.341002</td>\n",
       "      <td>Asia</td>\n",
       "      <td>62.575</td>\n",
       "    </tr>\n",
       "  </tbody>\n",
       "</table>\n",
       "</div>"
      ],
      "text/plain": [
       "       Country  Year  GDP_Per_Capita Continent  Life_Expectancy\n",
       "0  Afghanistan  2021     1517.016266      Asia           61.982\n",
       "1  Afghanistan  2020     1968.341002      Asia           62.575"
      ]
     },
     "execution_count": 2,
     "metadata": {},
     "output_type": "execute_result"
    }
   ],
   "source": [
    "gdp_le = pd.read_csv('../data/gdp_le.csv')\n",
    "gdp_le.head(2)"
   ]
  },
  {
   "cell_type": "markdown",
   "id": "d6b50e78-198b-436b-9bef-d297b11b6434",
   "metadata": {},
   "source": [
    "#### Start by fitting a linear regression model with target being life expectancy and predictor variable year."
   ]
  },
  {
   "cell_type": "code",
   "execution_count": 51,
   "id": "84de277a-e36c-4bc0-8e31-1924bd3efe79",
   "metadata": {},
   "outputs": [],
   "source": [
    "year_vs_le = smf.ols(\"Life_Expectancy ~ Year\", data=gdp_le).fit()"
   ]
  },
  {
   "cell_type": "markdown",
   "id": "29a5b724-9218-41bc-aecb-836a5559d28b",
   "metadata": {},
   "source": [
    "#### a. What coefficients do you get? Interpret the meaning of these coefficents."
   ]
  },
  {
   "cell_type": "code",
   "execution_count": 52,
   "id": "c8cb377b-2c31-4fdb-b095-7392f1076dbd",
   "metadata": {},
   "outputs": [
    {
     "data": {
      "text/plain": [
       "Intercept   -468.138140\n",
       "Year           0.267722\n",
       "dtype: float64"
      ]
     },
     "execution_count": 52,
     "metadata": {},
     "output_type": "execute_result"
    }
   ],
   "source": [
    "year_vs_le.params"
   ]
  },
  {
   "cell_type": "markdown",
   "id": "791cbe33-0773-48cc-bf65-67f0d4758d47",
   "metadata": {},
   "source": [
    "Our increase will be 0.2677(Year) starting at -468.138 on the Life Expectancy."
   ]
  },
  {
   "cell_type": "markdown",
   "id": "32b6ad13-98bc-40b9-87fe-c9fb2dcfd8a1",
   "metadata": {},
   "source": [
    "- the formula would fill as: $$Mean(Life\\_Expectancy) = -468.138140 + 0.267722(Year)$$ meaning each increase in one unit on average the Life Expectancy increases by ~0.267722 years.  "
   ]
  },
  {
   "cell_type": "markdown",
   "id": "68fab08f-7422-49ee-97b6-a08370087324",
   "metadata": {},
   "source": [
    "#### b. Using just the year makes the intercept term difficult to interpret. Create a new model, but this time use years since 1990 as your predictor variable. Hint: You can the patsy identity function to modify your predictors in your model formula. Inspect the new coefficients and interpret the meaning of them. Are they statistically significant?"
   ]
  },
  {
   "cell_type": "code",
   "execution_count": 53,
   "id": "8db2e6fa-34bd-444e-b5f8-6038afcc6760",
   "metadata": {},
   "outputs": [
    {
     "data": {
      "text/plain": [
       "Intercept         64.628889\n",
       "I(Year - 1990)     0.267722\n",
       "dtype: float64"
      ]
     },
     "execution_count": 53,
     "metadata": {},
     "output_type": "execute_result"
    }
   ],
   "source": [
    "lm = smf.ols(formula='Life_Expectancy ~ I(Year - 1990)', data=gdp_le).fit()\n",
    "lm.params"
   ]
  },
  {
   "cell_type": "markdown",
   "id": "6d31932f-acb9-4e73-be9e-dffcfcb5b606",
   "metadata": {},
   "source": [
    "In 1990, Our increase will be 0.2678/Year starting at 64.628 on the Life Expectancy. Which I beleive is statistically signifigant. "
   ]
  },
  {
   "cell_type": "code",
   "execution_count": 6,
   "id": "dbd84373-a365-4776-bc36-1d3b706178a6",
   "metadata": {},
   "outputs": [
    {
     "name": "stdout",
     "output_type": "stream",
     "text": [
      "                            OLS Regression Results                            \n",
      "==============================================================================\n",
      "Dep. Variable:        Life_Expectancy   R-squared:                       0.072\n",
      "Model:                            OLS   Adj. R-squared:                  0.071\n",
      "Method:                 Least Squares   F-statistic:                     424.0\n",
      "Date:                Tue, 28 Oct 2025   Prob (F-statistic):           8.13e-91\n",
      "Time:                        20:57:52   Log-Likelihood:                -19950.\n",
      "No. Observations:                5504   AIC:                         3.990e+04\n",
      "Df Residuals:                    5502   BIC:                         3.992e+04\n",
      "Df Model:                           1                                         \n",
      "Covariance Type:            nonrobust                                         \n",
      "==================================================================================\n",
      "                     coef    std err          t      P>|t|      [0.025      0.975]\n",
      "----------------------------------------------------------------------------------\n",
      "Intercept         64.6289      0.245    263.308      0.000      64.148      65.110\n",
      "I(Year - 1990)     0.2677      0.013     20.591      0.000       0.242       0.293\n",
      "==============================================================================\n",
      "Omnibus:                      387.409   Durbin-Watson:                   0.058\n",
      "Prob(Omnibus):                  0.000   Jarque-Bera (JB):              469.138\n",
      "Skew:                          -0.709   Prob(JB):                    1.34e-102\n",
      "Kurtosis:                       2.820   Cond. No.                         37.9\n",
      "==============================================================================\n",
      "\n",
      "Notes:\n",
      "[1] Standard Errors assume that the covariance matrix of the errors is correctly specified.\n",
      "Breusch-Pagan: (np.float64(99.8681407755768), np.float64(1.6288853146583354e-23), np.float64(101.67674010568682), np.float64(1.0491108967179602e-23))\n",
      "Jarque-Bera: (np.float64(469.1375542245723), np.float64(1.3429952398328023e-102), np.float64(-0.7094491570127864), np.float64(2.820040242309246))\n",
      "Durbin-Watson: 0.05840127346389549\n",
      "Omnibus: NormaltestResult(statistic=np.float64(387.4094967923115), pvalue=np.float64(7.500611183370674e-85))\n"
     ]
    }
   ],
   "source": [
    "print(lm.summary())\n",
    "print(f'Breusch-Pagan: {sms.het_breuschpagan(lm.resid, lm.model.exog)}');\n",
    "print(f'Jarque-Bera: {sms.jarque_bera(lm.resid)}');\n",
    "print(f'Durbin-Watson: {sms.durbin_watson(lm.resid)}');\n",
    "print(f'Omnibus: {sms.omni_normtest(lm.resid)}');"
   ]
  },
  {
   "cell_type": "markdown",
   "id": "37a47f46-6d4b-4b48-a481-cac80f6d4bbd",
   "metadata": {},
   "source": [
    "**Interpretations**  \n",
    "\n",
    "- The new model shifted to the year 1990 corresponding with the value of 0, the only difference in the two models is a transposition. The slope coefficient is the same in both models, the intercept is different based on whether the model takes the year 1990 as the value of 1990 or the value of 0.  \n",
    "- The p-value for the coefficients is approximately zero, indicating that the coefficients are statistically significant.   \n",
    "\n",
    "Durbin-Watson = 0.058  \n",
    "\n",
    "**P-values**  \n",
    "Breusch-Pagan = 1.62e-23  \n",
    "Jarque-Bera = 1.34e-102   \n",
    "Omnibus = 7.5e-85    \n",
    "\n",
    "- We should use caution when interpreting whether the coefficients are statistically significant because they violate the LINE requirements. "
   ]
  },
  {
   "cell_type": "markdown",
   "id": "ece5348a-d9c4-4cae-bd08-279e01f6a5c5",
   "metadata": {},
   "source": [
    "#### c. Compare the actual mean life expectancy per year to the model's estimate. How well does it do?"
   ]
  },
  {
   "cell_type": "code",
   "execution_count": 7,
   "id": "c6d37679-99b5-429a-a127-44ae6e1c60f9",
   "metadata": {},
   "outputs": [
    {
     "data": {
      "text/html": [
       "<div>\n",
       "<style scoped>\n",
       "    .dataframe tbody tr th:only-of-type {\n",
       "        vertical-align: middle;\n",
       "    }\n",
       "\n",
       "    .dataframe tbody tr th {\n",
       "        vertical-align: top;\n",
       "    }\n",
       "\n",
       "    .dataframe thead th {\n",
       "        text-align: right;\n",
       "    }\n",
       "</style>\n",
       "<table border=\"1\" class=\"dataframe\">\n",
       "  <thead>\n",
       "    <tr style=\"text-align: right;\">\n",
       "      <th></th>\n",
       "      <th>Year</th>\n",
       "      <th>Life_Expectancy</th>\n",
       "      <th>mean_estimate</th>\n",
       "    </tr>\n",
       "  </thead>\n",
       "  <tbody>\n",
       "    <tr>\n",
       "      <th>0</th>\n",
       "      <td>1990</td>\n",
       "      <td>64.745253</td>\n",
       "      <td>64.628889</td>\n",
       "    </tr>\n",
       "    <tr>\n",
       "      <th>1</th>\n",
       "      <td>1991</td>\n",
       "      <td>65.021276</td>\n",
       "      <td>64.896612</td>\n",
       "    </tr>\n",
       "    <tr>\n",
       "      <th>2</th>\n",
       "      <td>1992</td>\n",
       "      <td>65.217845</td>\n",
       "      <td>65.164334</td>\n",
       "    </tr>\n",
       "    <tr>\n",
       "      <th>3</th>\n",
       "      <td>1993</td>\n",
       "      <td>65.218031</td>\n",
       "      <td>65.432056</td>\n",
       "    </tr>\n",
       "    <tr>\n",
       "      <th>4</th>\n",
       "      <td>1994</td>\n",
       "      <td>65.339539</td>\n",
       "      <td>65.699778</td>\n",
       "    </tr>\n",
       "  </tbody>\n",
       "</table>\n",
       "</div>"
      ],
      "text/plain": [
       "   Year  Life_Expectancy  mean_estimate\n",
       "0  1990        64.745253      64.628889\n",
       "1  1991        65.021276      64.896612\n",
       "2  1992        65.217845      65.164334\n",
       "3  1993        65.218031      65.432056\n",
       "4  1994        65.339539      65.699778"
      ]
     },
     "execution_count": 7,
     "metadata": {},
     "output_type": "execute_result"
    }
   ],
   "source": [
    "means_per_year = gdp_le.groupby('Year')['Life_Expectancy'].mean().reset_index()\n",
    "means_per_year['mean_estimate'] = lm.predict(means_per_year)\n",
    "means_per_year.head(5)"
   ]
  },
  {
   "cell_type": "markdown",
   "id": "2783f4b5-6c4d-4e1f-9895-4bf548e8c01b",
   "metadata": {},
   "source": [
    "The model is very close"
   ]
  },
  {
   "cell_type": "markdown",
   "id": "6c5816eb-5967-4889-89a3-0f9c62158a4f",
   "metadata": {},
   "source": [
    "d. Plot the actual values against your model's estimates for the mean life expectancy."
   ]
  },
  {
   "cell_type": "code",
   "execution_count": 8,
   "id": "af40ab3e-e429-44a3-94ee-b6b6b5c653db",
   "metadata": {},
   "outputs": [
    {
     "data": {
      "image/png": "[encoded data removed]",
      "text/plain": [
       "<Figure size 640x480 with 1 Axes>"
      ]
     },
     "metadata": {},
     "output_type": "display_data"
    }
   ],
   "source": [
    "means_per_year.plot(kind = 'line', x= 'Year', y = 'Life_Expectancy', color = 'blue')\n",
    "plt.plot(gdp_le['Year'], lm.fittedvalues, color = 'red')\n",
    "plt.ylabel('Years (age)')\n",
    "plt.legend(['Life Expectancy', 'Prediction']);"
   ]
  },
  {
   "cell_type": "code",
   "execution_count": 9,
   "id": "58059170-12b7-47a7-a041-ff51d9fe732a",
   "metadata": {},
   "outputs": [
    {
     "data": {
      "image/png": "[encoded data removed]",
      "text/plain": [
       "<Figure size 640x480 with 1 Axes>"
      ]
     },
     "metadata": {},
     "output_type": "display_data"
    }
   ],
   "source": [
    "fig, ax = plt.subplots()\n",
    "gdp_le.plot(kind='scatter', x='Year', y='Life_Expectancy', ax=ax)\n",
    "means_per_year.plot(x='Year', y='mean_estimate', ax=ax, color='black')\n",
    "plt.legend(['Countries', 'Mean Estimate']);"
   ]
  },
  {
   "cell_type": "markdown",
   "id": "2bd4128c-a635-4d10-a5c8-48fb1e988005",
   "metadata": {},
   "source": [
    "e. Inspect the R-squared value for the model. does it make sense, given the plot?"
   ]
  },
  {
   "cell_type": "code",
   "execution_count": 10,
   "id": "9f0fc54c-6399-4205-bb24-91822f0f2fcd",
   "metadata": {},
   "outputs": [
    {
     "data": {
      "text/html": [
       "<table class=\"simpletable\">\n",
       "<caption>OLS Regression Results</caption>\n",
       "<tr>\n",
       "  <th>Dep. Variable:</th>     <td>Life_Expectancy</td> <th>  R-squared:         </th> <td>   0.072</td> \n",
       "</tr>\n",
       "<tr>\n",
       "  <th>Model:</th>                   <td>OLS</td>       <th>  Adj. R-squared:    </th> <td>   0.071</td> \n",
       "</tr>\n",
       "<tr>\n",
       "  <th>Method:</th>             <td>Least Squares</td>  <th>  F-statistic:       </th> <td>   424.0</td> \n",
       "</tr>\n",
       "<tr>\n",
       "  <th>Date:</th>             <td>Tue, 28 Oct 2025</td> <th>  Prob (F-statistic):</th> <td>8.13e-91</td> \n",
       "</tr>\n",
       "<tr>\n",
       "  <th>Time:</th>                 <td>20:57:52</td>     <th>  Log-Likelihood:    </th> <td> -19950.</td> \n",
       "</tr>\n",
       "<tr>\n",
       "  <th>No. Observations:</th>      <td>  5504</td>      <th>  AIC:               </th> <td>3.990e+04</td>\n",
       "</tr>\n",
       "<tr>\n",
       "  <th>Df Residuals:</th>          <td>  5502</td>      <th>  BIC:               </th> <td>3.992e+04</td>\n",
       "</tr>\n",
       "<tr>\n",
       "  <th>Df Model:</th>              <td>     1</td>      <th>                     </th>     <td> </td>    \n",
       "</tr>\n",
       "<tr>\n",
       "  <th>Covariance Type:</th>      <td>nonrobust</td>    <th>                     </th>     <td> </td>    \n",
       "</tr>\n",
       "</table>\n",
       "<table class=\"simpletable\">\n",
       "<tr>\n",
       "         <td></td>           <th>coef</th>     <th>std err</th>      <th>t</th>      <th>P>|t|</th>  <th>[0.025</th>    <th>0.975]</th>  \n",
       "</tr>\n",
       "<tr>\n",
       "  <th>Intercept</th>      <td>   64.6289</td> <td>    0.245</td> <td>  263.308</td> <td> 0.000</td> <td>   64.148</td> <td>   65.110</td>\n",
       "</tr>\n",
       "<tr>\n",
       "  <th>I(Year - 1990)</th> <td>    0.2677</td> <td>    0.013</td> <td>   20.591</td> <td> 0.000</td> <td>    0.242</td> <td>    0.293</td>\n",
       "</tr>\n",
       "</table>\n",
       "<table class=\"simpletable\">\n",
       "<tr>\n",
       "  <th>Omnibus:</th>       <td>387.409</td> <th>  Durbin-Watson:     </th> <td>   0.058</td> \n",
       "</tr>\n",
       "<tr>\n",
       "  <th>Prob(Omnibus):</th> <td> 0.000</td>  <th>  Jarque-Bera (JB):  </th> <td> 469.138</td> \n",
       "</tr>\n",
       "<tr>\n",
       "  <th>Skew:</th>          <td>-0.709</td>  <th>  Prob(JB):          </th> <td>1.34e-102</td>\n",
       "</tr>\n",
       "<tr>\n",
       "  <th>Kurtosis:</th>      <td> 2.820</td>  <th>  Cond. No.          </th> <td>    37.9</td> \n",
       "</tr>\n",
       "</table><br/><br/>Notes:<br/>[1] Standard Errors assume that the covariance matrix of the errors is correctly specified."
      ],
      "text/latex": [
       "\\begin{center}\n",
       "\\begin{tabular}{lclc}\n",
       "\\toprule\n",
       "\\textbf{Dep. Variable:}    & Life\\_Expectancy & \\textbf{  R-squared:         } &     0.072   \\\\\n",
       "\\textbf{Model:}            &       OLS        & \\textbf{  Adj. R-squared:    } &     0.071   \\\\\n",
       "\\textbf{Method:}           &  Least Squares   & \\textbf{  F-statistic:       } &     424.0   \\\\\n",
       "\\textbf{Date:}             & Tue, 28 Oct 2025 & \\textbf{  Prob (F-statistic):} &  8.13e-91   \\\\\n",
       "\\textbf{Time:}             &     20:57:52     & \\textbf{  Log-Likelihood:    } &   -19950.   \\\\\n",
       "\\textbf{No. Observations:} &        5504      & \\textbf{  AIC:               } & 3.990e+04   \\\\\n",
       "\\textbf{Df Residuals:}     &        5502      & \\textbf{  BIC:               } & 3.992e+04   \\\\\n",
       "\\textbf{Df Model:}         &           1      & \\textbf{                     } &             \\\\\n",
       "\\textbf{Covariance Type:}  &    nonrobust     & \\textbf{                     } &             \\\\\n",
       "\\bottomrule\n",
       "\\end{tabular}\n",
       "\\begin{tabular}{lcccccc}\n",
       "                        & \\textbf{coef} & \\textbf{std err} & \\textbf{t} & \\textbf{P$> |$t$|$} & \\textbf{[0.025} & \\textbf{0.975]}  \\\\\n",
       "\\midrule\n",
       "\\textbf{Intercept}      &      64.6289  &        0.245     &   263.308  &         0.000        &       64.148    &       65.110     \\\\\n",
       "\\textbf{I(Year - 1990)} &       0.2677  &        0.013     &    20.591  &         0.000        &        0.242    &        0.293     \\\\\n",
       "\\bottomrule\n",
       "\\end{tabular}\n",
       "\\begin{tabular}{lclc}\n",
       "\\textbf{Omnibus:}       & 387.409 & \\textbf{  Durbin-Watson:     } &     0.058  \\\\\n",
       "\\textbf{Prob(Omnibus):} &   0.000 & \\textbf{  Jarque-Bera (JB):  } &   469.138  \\\\\n",
       "\\textbf{Skew:}          &  -0.709 & \\textbf{  Prob(JB):          } & 1.34e-102  \\\\\n",
       "\\textbf{Kurtosis:}      &   2.820 & \\textbf{  Cond. No.          } &      37.9  \\\\\n",
       "\\bottomrule\n",
       "\\end{tabular}\n",
       "%\\caption{OLS Regression Results}\n",
       "\\end{center}\n",
       "\n",
       "Notes: \\newline\n",
       " [1] Standard Errors assume that the covariance matrix of the errors is correctly specified."
      ],
      "text/plain": [
       "<class 'statsmodels.iolib.summary.Summary'>\n",
       "\"\"\"\n",
       "                            OLS Regression Results                            \n",
       "==============================================================================\n",
       "Dep. Variable:        Life_Expectancy   R-squared:                       0.072\n",
       "Model:                            OLS   Adj. R-squared:                  0.071\n",
       "Method:                 Least Squares   F-statistic:                     424.0\n",
       "Date:                Tue, 28 Oct 2025   Prob (F-statistic):           8.13e-91\n",
       "Time:                        20:57:52   Log-Likelihood:                -19950.\n",
       "No. Observations:                5504   AIC:                         3.990e+04\n",
       "Df Residuals:                    5502   BIC:                         3.992e+04\n",
       "Df Model:                           1                                         \n",
       "Covariance Type:            nonrobust                                         \n",
       "==================================================================================\n",
       "                     coef    std err          t      P>|t|      [0.025      0.975]\n",
       "----------------------------------------------------------------------------------\n",
       "Intercept         64.6289      0.245    263.308      0.000      64.148      65.110\n",
       "I(Year - 1990)     0.2677      0.013     20.591      0.000       0.242       0.293\n",
       "==============================================================================\n",
       "Omnibus:                      387.409   Durbin-Watson:                   0.058\n",
       "Prob(Omnibus):                  0.000   Jarque-Bera (JB):              469.138\n",
       "Skew:                          -0.709   Prob(JB):                    1.34e-102\n",
       "Kurtosis:                       2.820   Cond. No.                         37.9\n",
       "==============================================================================\n",
       "\n",
       "Notes:\n",
       "[1] Standard Errors assume that the covariance matrix of the errors is correctly specified.\n",
       "\"\"\""
      ]
     },
     "execution_count": 10,
     "metadata": {},
     "output_type": "execute_result"
    }
   ],
   "source": [
    "lm.summary()"
   ]
  },
  {
   "cell_type": "code",
   "execution_count": 11,
   "id": "76967606-05c6-4927-a326-92a6d4c53b98",
   "metadata": {},
   "outputs": [
    {
     "name": "stdout",
     "output_type": "stream",
     "text": [
      "variance of residuals is 82.3971125224111\n",
      "vairance of Life_Expectancy is 88.74671724809251\n"
     ]
    }
   ],
   "source": [
    "print(f'variance of residuals is {lm.resid.var()}')\n",
    "print(f'vairance of Life_Expectancy is {gdp_le['Life_Expectancy'].var()}')"
   ]
  },
  {
   "cell_type": "markdown",
   "id": "af5fe8f0-f52f-4ac9-9b75-5f5576e339c7",
   "metadata": {},
   "source": [
    "The R-squared values make sense because they should be very similar, based on what I did. \n",
    "There is a lot of variation left to be explained because there is slightly less variation."
   ]
  },
  {
   "cell_type": "markdown",
   "id": "6351bf98-9386-4cdd-9a15-f40ef2a82e97",
   "metadata": {},
   "source": [
    "### Filter the full dataset down to just the year 2021. Fit a linear regression model with target being life expectancy and predictor variable gdp per capita."
   ]
  },
  {
   "cell_type": "code",
   "execution_count": 12,
   "id": "54dd2624-3d54-43cc-a802-d979e93840ee",
   "metadata": {},
   "outputs": [
    {
     "data": {
      "text/html": [
       "<div>\n",
       "<style scoped>\n",
       "    .dataframe tbody tr th:only-of-type {\n",
       "        vertical-align: middle;\n",
       "    }\n",
       "\n",
       "    .dataframe tbody tr th {\n",
       "        vertical-align: top;\n",
       "    }\n",
       "\n",
       "    .dataframe thead th {\n",
       "        text-align: right;\n",
       "    }\n",
       "</style>\n",
       "<table border=\"1\" class=\"dataframe\">\n",
       "  <thead>\n",
       "    <tr style=\"text-align: right;\">\n",
       "      <th></th>\n",
       "      <th>Country</th>\n",
       "      <th>Year</th>\n",
       "      <th>GDP_Per_Capita</th>\n",
       "      <th>Continent</th>\n",
       "      <th>Life_Expectancy</th>\n",
       "    </tr>\n",
       "  </thead>\n",
       "  <tbody>\n",
       "    <tr>\n",
       "      <th>0</th>\n",
       "      <td>Afghanistan</td>\n",
       "      <td>2021</td>\n",
       "      <td>1517.016266</td>\n",
       "      <td>Asia</td>\n",
       "      <td>61.982</td>\n",
       "    </tr>\n",
       "    <tr>\n",
       "      <th>21</th>\n",
       "      <td>Albania</td>\n",
       "      <td>2021</td>\n",
       "      <td>14595.944386</td>\n",
       "      <td>Europe</td>\n",
       "      <td>76.463</td>\n",
       "    </tr>\n",
       "  </tbody>\n",
       "</table>\n",
       "</div>"
      ],
      "text/plain": [
       "        Country  Year  GDP_Per_Capita Continent  Life_Expectancy\n",
       "0   Afghanistan  2021     1517.016266      Asia           61.982\n",
       "21      Albania  2021    14595.944386    Europe           76.463"
      ]
     },
     "execution_count": 12,
     "metadata": {},
     "output_type": "execute_result"
    }
   ],
   "source": [
    "gdp_le_2021 = gdp_le[gdp_le['Year'] == 2021].copy()\n",
    "gdp_le_2021.head(2)"
   ]
  },
  {
   "cell_type": "code",
   "execution_count": 13,
   "id": "fb138acf-ac3c-43bb-8f2e-02eb0ce598d2",
   "metadata": {},
   "outputs": [
    {
     "data": {
      "text/plain": [
       "Intercept         65.949870\n",
       "GDP_Per_Capita     0.000257\n",
       "dtype: float64"
      ]
     },
     "execution_count": 13,
     "metadata": {},
     "output_type": "execute_result"
    }
   ],
   "source": [
    "lm_2021= smf.ols(\"Life_Expectancy ~ GDP_Per_Capita\", data=gdp_le_2021).fit()\n",
    "lm_2021.params"
   ]
  },
  {
   "cell_type": "markdown",
   "id": "657eff16-3588-4b9e-bcdd-299a712475fb",
   "metadata": {},
   "source": [
    "a. What coefficients do you get? Interpret the meaning of those coefficients."
   ]
  },
  {
   "cell_type": "markdown",
   "id": "5a9bc38f-f276-4c1b-912d-47c1a593ac52",
   "metadata": {},
   "source": [
    "Our increase will be 0.000257 starting at 65.949 on the Life Expectancy."
   ]
  },
  {
   "cell_type": "markdown",
   "id": "7e65c777-85dc-47e5-858d-5feb10afb642",
   "metadata": {},
   "source": [
    "#### b. Refit your model, but this time use thousands of dollars of gdp per capita as your predictor. How does this change your coefficients?"
   ]
  },
  {
   "cell_type": "code",
   "execution_count": 14,
   "id": "fb335843-7d15-4051-ab09-2f7fbaba3855",
   "metadata": {},
   "outputs": [
    {
     "data": {
      "text/plain": [
       "Intercept                   65.949870\n",
       "I(GDP_Per_Capita / 1000)     0.256892\n",
       "dtype: float64"
      ]
     },
     "execution_count": 14,
     "metadata": {},
     "output_type": "execute_result"
    }
   ],
   "source": [
    "lm_2021_adjusted = smf.ols('Life_Expectancy ~ I(GDP_Per_Capita/1000)', data=gdp_le_2021).fit()\n",
    "lm_2021_adjusted.params"
   ]
  },
  {
   "cell_type": "code",
   "execution_count": 15,
   "id": "2214b213-ebb5-490a-99f7-d825844b056b",
   "metadata": {},
   "outputs": [
    {
     "data": {
      "text/plain": [
       "Intercept        -1.924117e-14\n",
       "GDP_Per_Capita    1.000000e-03\n",
       "dtype: float64"
      ]
     },
     "execution_count": 15,
     "metadata": {},
     "output_type": "execute_result"
    }
   ],
   "source": [
    "lr_gdp_2021_dollars= smf.ols(\"I(GDP_Per_Capita / 1000) ~ GDP_Per_Capita\", data=gdp_le_2021).fit()\n",
    "lr_gdp_2021_dollars.params"
   ]
  },
  {
   "cell_type": "markdown",
   "id": "f893317e-42f9-46b6-bef7-bb7fd70028f8",
   "metadata": {},
   "source": [
    "I used a log transformation to essentially change the magnitude of our units, meaning one unit increase ($1000) in GDP per capita results in a 0.256892 increase in mean life expectancy. "
   ]
  },
  {
   "cell_type": "markdown",
   "id": "692dae45-b48f-457d-8a16-3327682e87f8",
   "metadata": {},
   "source": [
    "#### c. Are the coefficients statistically significant?"
   ]
  },
  {
   "cell_type": "code",
   "execution_count": 16,
   "id": "b5838d47-c69d-4278-a10e-a3e3c952b6e3",
   "metadata": {},
   "outputs": [
    {
     "data": {
      "text/html": [
       "<table class=\"simpletable\">\n",
       "<caption>OLS Regression Results</caption>\n",
       "<tr>\n",
       "  <th>Dep. Variable:</th>     <td>Life_Expectancy</td> <th>  R-squared:         </th> <td>   0.555</td>\n",
       "</tr>\n",
       "<tr>\n",
       "  <th>Model:</th>                   <td>OLS</td>       <th>  Adj. R-squared:    </th> <td>   0.553</td>\n",
       "</tr>\n",
       "<tr>\n",
       "  <th>Method:</th>             <td>Least Squares</td>  <th>  F-statistic:       </th> <td>   213.4</td>\n",
       "</tr>\n",
       "<tr>\n",
       "  <th>Date:</th>             <td>Tue, 28 Oct 2025</td> <th>  Prob (F-statistic):</th> <td>6.81e-32</td>\n",
       "</tr>\n",
       "<tr>\n",
       "  <th>Time:</th>                 <td>20:57:53</td>     <th>  Log-Likelihood:    </th> <td> -529.25</td>\n",
       "</tr>\n",
       "<tr>\n",
       "  <th>No. Observations:</th>      <td>   173</td>      <th>  AIC:               </th> <td>   1062.</td>\n",
       "</tr>\n",
       "<tr>\n",
       "  <th>Df Residuals:</th>          <td>   171</td>      <th>  BIC:               </th> <td>   1069.</td>\n",
       "</tr>\n",
       "<tr>\n",
       "  <th>Df Model:</th>              <td>     1</td>      <th>                     </th>     <td> </td>   \n",
       "</tr>\n",
       "<tr>\n",
       "  <th>Covariance Type:</th>      <td>nonrobust</td>    <th>                     </th>     <td> </td>   \n",
       "</tr>\n",
       "</table>\n",
       "<table class=\"simpletable\">\n",
       "<tr>\n",
       "              <td></td>                <th>coef</th>     <th>std err</th>      <th>t</th>      <th>P>|t|</th>  <th>[0.025</th>    <th>0.975]</th>  \n",
       "</tr>\n",
       "<tr>\n",
       "  <th>Intercept</th>                <td>   65.9499</td> <td>    0.549</td> <td>  120.225</td> <td> 0.000</td> <td>   64.867</td> <td>   67.033</td>\n",
       "</tr>\n",
       "<tr>\n",
       "  <th>I(GDP_Per_Capita / 1000)</th> <td>    0.2569</td> <td>    0.018</td> <td>   14.608</td> <td> 0.000</td> <td>    0.222</td> <td>    0.292</td>\n",
       "</tr>\n",
       "</table>\n",
       "<table class=\"simpletable\">\n",
       "<tr>\n",
       "  <th>Omnibus:</th>       <td>11.676</td> <th>  Durbin-Watson:     </th> <td>   1.887</td>\n",
       "</tr>\n",
       "<tr>\n",
       "  <th>Prob(Omnibus):</th> <td> 0.003</td> <th>  Jarque-Bera (JB):  </th> <td>  12.725</td>\n",
       "</tr>\n",
       "<tr>\n",
       "  <th>Skew:</th>          <td>-0.664</td> <th>  Prob(JB):          </th> <td> 0.00173</td>\n",
       "</tr>\n",
       "<tr>\n",
       "  <th>Kurtosis:</th>      <td> 2.946</td> <th>  Cond. No.          </th> <td>    43.4</td>\n",
       "</tr>\n",
       "</table><br/><br/>Notes:<br/>[1] Standard Errors assume that the covariance matrix of the errors is correctly specified."
      ],
      "text/latex": [
       "\\begin{center}\n",
       "\\begin{tabular}{lclc}\n",
       "\\toprule\n",
       "\\textbf{Dep. Variable:}             & Life\\_Expectancy & \\textbf{  R-squared:         } &     0.555   \\\\\n",
       "\\textbf{Model:}                     &       OLS        & \\textbf{  Adj. R-squared:    } &     0.553   \\\\\n",
       "\\textbf{Method:}                    &  Least Squares   & \\textbf{  F-statistic:       } &     213.4   \\\\\n",
       "\\textbf{Date:}                      & Tue, 28 Oct 2025 & \\textbf{  Prob (F-statistic):} &  6.81e-32   \\\\\n",
       "\\textbf{Time:}                      &     20:57:53     & \\textbf{  Log-Likelihood:    } &   -529.25   \\\\\n",
       "\\textbf{No. Observations:}          &         173      & \\textbf{  AIC:               } &     1062.   \\\\\n",
       "\\textbf{Df Residuals:}              &         171      & \\textbf{  BIC:               } &     1069.   \\\\\n",
       "\\textbf{Df Model:}                  &           1      & \\textbf{                     } &             \\\\\n",
       "\\textbf{Covariance Type:}           &    nonrobust     & \\textbf{                     } &             \\\\\n",
       "\\bottomrule\n",
       "\\end{tabular}\n",
       "\\begin{tabular}{lcccccc}\n",
       "                                    & \\textbf{coef} & \\textbf{std err} & \\textbf{t} & \\textbf{P$> |$t$|$} & \\textbf{[0.025} & \\textbf{0.975]}  \\\\\n",
       "\\midrule\n",
       "\\textbf{Intercept}                  &      65.9499  &        0.549     &   120.225  &         0.000        &       64.867    &       67.033     \\\\\n",
       "\\textbf{I(GDP\\_Per\\_Capita / 1000)} &       0.2569  &        0.018     &    14.608  &         0.000        &        0.222    &        0.292     \\\\\n",
       "\\bottomrule\n",
       "\\end{tabular}\n",
       "\\begin{tabular}{lclc}\n",
       "\\textbf{Omnibus:}       & 11.676 & \\textbf{  Durbin-Watson:     } &    1.887  \\\\\n",
       "\\textbf{Prob(Omnibus):} &  0.003 & \\textbf{  Jarque-Bera (JB):  } &   12.725  \\\\\n",
       "\\textbf{Skew:}          & -0.664 & \\textbf{  Prob(JB):          } &  0.00173  \\\\\n",
       "\\textbf{Kurtosis:}      &  2.946 & \\textbf{  Cond. No.          } &     43.4  \\\\\n",
       "\\bottomrule\n",
       "\\end{tabular}\n",
       "%\\caption{OLS Regression Results}\n",
       "\\end{center}\n",
       "\n",
       "Notes: \\newline\n",
       " [1] Standard Errors assume that the covariance matrix of the errors is correctly specified."
      ],
      "text/plain": [
       "<class 'statsmodels.iolib.summary.Summary'>\n",
       "\"\"\"\n",
       "                            OLS Regression Results                            \n",
       "==============================================================================\n",
       "Dep. Variable:        Life_Expectancy   R-squared:                       0.555\n",
       "Model:                            OLS   Adj. R-squared:                  0.553\n",
       "Method:                 Least Squares   F-statistic:                     213.4\n",
       "Date:                Tue, 28 Oct 2025   Prob (F-statistic):           6.81e-32\n",
       "Time:                        20:57:53   Log-Likelihood:                -529.25\n",
       "No. Observations:                 173   AIC:                             1062.\n",
       "Df Residuals:                     171   BIC:                             1069.\n",
       "Df Model:                           1                                         \n",
       "Covariance Type:            nonrobust                                         \n",
       "============================================================================================\n",
       "                               coef    std err          t      P>|t|      [0.025      0.975]\n",
       "--------------------------------------------------------------------------------------------\n",
       "Intercept                   65.9499      0.549    120.225      0.000      64.867      67.033\n",
       "I(GDP_Per_Capita / 1000)     0.2569      0.018     14.608      0.000       0.222       0.292\n",
       "==============================================================================\n",
       "Omnibus:                       11.676   Durbin-Watson:                   1.887\n",
       "Prob(Omnibus):                  0.003   Jarque-Bera (JB):               12.725\n",
       "Skew:                          -0.664   Prob(JB):                      0.00173\n",
       "Kurtosis:                       2.946   Cond. No.                         43.4\n",
       "==============================================================================\n",
       "\n",
       "Notes:\n",
       "[1] Standard Errors assume that the covariance matrix of the errors is correctly specified.\n",
       "\"\"\""
      ]
     },
     "execution_count": 16,
     "metadata": {},
     "output_type": "execute_result"
    }
   ],
   "source": [
    "lm_2021_adjusted.summary()"
   ]
  },
  {
   "cell_type": "markdown",
   "id": "1e8ab573-a4d8-4eab-bf9f-7876d9931bdf",
   "metadata": {},
   "source": [
    "The coefficients are not statistically significant because the P-values are near 0."
   ]
  },
  {
   "cell_type": "markdown",
   "id": "c52b257c-da7c-40eb-84fa-066a11988aea",
   "metadata": {},
   "source": [
    "d. What does your model estimate for the mean life expectancy for a country whose gdp per capita is 50,000 dollars? What about one whose gdp per capita is 100,000 dollars?"
   ]
  },
  {
   "cell_type": "code",
   "execution_count": 17,
   "id": "9bab23e0-7591-48fc-aba6-dc1b970176f9",
   "metadata": {},
   "outputs": [
    {
     "data": {
      "text/plain": [
       "[np.float64(78.7944572464132),\n",
       " np.float64(91.63904465544815),\n",
       " np.float64(1.1630138446016092)]"
      ]
     },
     "execution_count": 17,
     "metadata": {},
     "output_type": "execute_result"
    }
   ],
   "source": [
    "predictor = lm_2021_adjusted.params['I(GDP_Per_Capita / 1000)']\n",
    "intercept = lm_2021_adjusted.params['Intercept']\n",
    "mean_le_50k = predictor * 50 + intercept\n",
    "mean_le_100k = predictor * 100 + intercept\n",
    "[mean_le_50k, mean_le_100k, (mean_le_100k/mean_le_50k)]"
   ]
  },
  {
   "cell_type": "markdown",
   "id": "ce3b7c56-6abf-4292-a852-b3be77859c58",
   "metadata": {},
   "source": [
    "The country with GDP per capita of 100,000 dollars has more than 10 years life expectancy of a country with GDP per Capita of 50,000 dollars"
   ]
  },
  {
   "cell_type": "markdown",
   "id": "33e88788-db6f-4ea1-960a-dec8a0ea0eb9",
   "metadata": {},
   "source": [
    "#### e. Plot the actual values compared to your model's estimates for mean life expectancy. How would you assess the model's fit?"
   ]
  },
  {
   "cell_type": "code",
   "execution_count": 18,
   "id": "1c7c7c76-809c-41f2-86a0-86a89e85e2db",
   "metadata": {},
   "outputs": [
    {
     "data": {
      "text/html": [
       "<div>\n",
       "<style scoped>\n",
       "    .dataframe tbody tr th:only-of-type {\n",
       "        vertical-align: middle;\n",
       "    }\n",
       "\n",
       "    .dataframe tbody tr th {\n",
       "        vertical-align: top;\n",
       "    }\n",
       "\n",
       "    .dataframe thead th {\n",
       "        text-align: right;\n",
       "    }\n",
       "</style>\n",
       "<table border=\"1\" class=\"dataframe\">\n",
       "  <thead>\n",
       "    <tr style=\"text-align: right;\">\n",
       "      <th></th>\n",
       "      <th>Country</th>\n",
       "      <th>Year</th>\n",
       "      <th>GDP_Per_Capita</th>\n",
       "      <th>Continent</th>\n",
       "      <th>Life_Expectancy</th>\n",
       "    </tr>\n",
       "  </thead>\n",
       "  <tbody>\n",
       "    <tr>\n",
       "      <th>0</th>\n",
       "      <td>Afghanistan</td>\n",
       "      <td>2021</td>\n",
       "      <td>1517.016266</td>\n",
       "      <td>Asia</td>\n",
       "      <td>61.982</td>\n",
       "    </tr>\n",
       "    <tr>\n",
       "      <th>21</th>\n",
       "      <td>Albania</td>\n",
       "      <td>2021</td>\n",
       "      <td>14595.944386</td>\n",
       "      <td>Europe</td>\n",
       "      <td>76.463</td>\n",
       "    </tr>\n",
       "    <tr>\n",
       "      <th>54</th>\n",
       "      <td>Algeria</td>\n",
       "      <td>2021</td>\n",
       "      <td>11029.138782</td>\n",
       "      <td>Africa</td>\n",
       "      <td>76.377</td>\n",
       "    </tr>\n",
       "    <tr>\n",
       "      <th>87</th>\n",
       "      <td>Angola</td>\n",
       "      <td>2021</td>\n",
       "      <td>5911.835657</td>\n",
       "      <td>Africa</td>\n",
       "      <td>61.643</td>\n",
       "    </tr>\n",
       "    <tr>\n",
       "      <th>120</th>\n",
       "      <td>Antigua and Barbuda</td>\n",
       "      <td>2021</td>\n",
       "      <td>19899.882425</td>\n",
       "      <td>North America</td>\n",
       "      <td>78.497</td>\n",
       "    </tr>\n",
       "    <tr>\n",
       "      <th>...</th>\n",
       "      <td>...</td>\n",
       "      <td>...</td>\n",
       "      <td>...</td>\n",
       "      <td>...</td>\n",
       "      <td>...</td>\n",
       "    </tr>\n",
       "    <tr>\n",
       "      <th>5344</th>\n",
       "      <td>Uzbekistan</td>\n",
       "      <td>2021</td>\n",
       "      <td>7800.501501</td>\n",
       "      <td>Asia</td>\n",
       "      <td>70.862</td>\n",
       "    </tr>\n",
       "    <tr>\n",
       "      <th>5377</th>\n",
       "      <td>Vanuatu</td>\n",
       "      <td>2021</td>\n",
       "      <td>2800.493866</td>\n",
       "      <td>Oceania</td>\n",
       "      <td>70.449</td>\n",
       "    </tr>\n",
       "    <tr>\n",
       "      <th>5410</th>\n",
       "      <td>West Bank and Gaza</td>\n",
       "      <td>2021</td>\n",
       "      <td>5641.044400</td>\n",
       "      <td>Asia</td>\n",
       "      <td>73.473</td>\n",
       "    </tr>\n",
       "    <tr>\n",
       "      <th>5439</th>\n",
       "      <td>Zambia</td>\n",
       "      <td>2021</td>\n",
       "      <td>3236.788981</td>\n",
       "      <td>Africa</td>\n",
       "      <td>61.223</td>\n",
       "    </tr>\n",
       "    <tr>\n",
       "      <th>5472</th>\n",
       "      <td>Zimbabwe</td>\n",
       "      <td>2021</td>\n",
       "      <td>2115.144555</td>\n",
       "      <td>Africa</td>\n",
       "      <td>59.253</td>\n",
       "    </tr>\n",
       "  </tbody>\n",
       "</table>\n",
       "<p>173 rows × 5 columns</p>\n",
       "</div>"
      ],
      "text/plain": [
       "                  Country  Year  GDP_Per_Capita      Continent  \\\n",
       "0             Afghanistan  2021     1517.016266           Asia   \n",
       "21                Albania  2021    14595.944386         Europe   \n",
       "54                Algeria  2021    11029.138782         Africa   \n",
       "87                 Angola  2021     5911.835657         Africa   \n",
       "120   Antigua and Barbuda  2021    19899.882425  North America   \n",
       "...                   ...   ...             ...            ...   \n",
       "5344           Uzbekistan  2021     7800.501501           Asia   \n",
       "5377              Vanuatu  2021     2800.493866        Oceania   \n",
       "5410   West Bank and Gaza  2021     5641.044400           Asia   \n",
       "5439               Zambia  2021     3236.788981         Africa   \n",
       "5472             Zimbabwe  2021     2115.144555         Africa   \n",
       "\n",
       "      Life_Expectancy  \n",
       "0              61.982  \n",
       "21             76.463  \n",
       "54             76.377  \n",
       "87             61.643  \n",
       "120            78.497  \n",
       "...               ...  \n",
       "5344           70.862  \n",
       "5377           70.449  \n",
       "5410           73.473  \n",
       "5439           61.223  \n",
       "5472           59.253  \n",
       "\n",
       "[173 rows x 5 columns]"
      ]
     },
     "metadata": {},
     "output_type": "display_data"
    },
    {
     "data": {
      "image/png": "[encoded data removed]",
      "text/plain": [
       "<Figure size 640x480 with 1 Axes>"
      ]
     },
     "metadata": {},
     "output_type": "display_data"
    }
   ],
   "source": [
    "display(gdp_le_2021)\n",
    "gdp_le_2021.plot(kind = 'scatter', x= 'GDP_Per_Capita', y = 'Life_Expectancy', color = 'blue')\n",
    "plt.plot(gdp_le_2021['GDP_Per_Capita'], lm_2021_adjusted.fittedvalues, color = 'red')\n",
    "plt.legend(['Actual Values', 'Linear Model estimated mean']);"
   ]
  },
  {
   "cell_type": "markdown",
   "id": "a4b9981b-aa74-4cb0-bc88-557b7d0cbb7d",
   "metadata": {},
   "source": [
    "This shows a positive association between the two variables, but it does not fit well in the current form. "
   ]
  },
  {
   "cell_type": "markdown",
   "id": "471b031f-c310-4643-814a-f21e243369c9",
   "metadata": {},
   "source": [
    "### Now, fit a model for life expectancy based on the log of gdp per capita."
   ]
  },
  {
   "cell_type": "code",
   "execution_count": 19,
   "id": "b6bc2677-0fd0-436a-8ac2-a3a547acbfb4",
   "metadata": {},
   "outputs": [],
   "source": [
    "lm_2021_log = smf.ols('Life_Expectancy ~ I(np.log(GDP_Per_Capita))', data=gdp_le_2021).fit()"
   ]
  },
  {
   "cell_type": "markdown",
   "id": "0179419b-9bea-4384-92ab-dd4658894d0f",
   "metadata": {},
   "source": [
    "a. Inspect the coefficients for this model. Are they statistically significant? "
   ]
  },
  {
   "cell_type": "code",
   "execution_count": 20,
   "id": "2b5c7e05-f057-41e4-a428-215a4ad90ff1",
   "metadata": {},
   "outputs": [
    {
     "data": {
      "text/plain": [
       "Intercept                    18.946970\n",
       "I(np.log(GDP_Per_Capita))     5.589014\n",
       "dtype: float64"
      ]
     },
     "execution_count": 20,
     "metadata": {},
     "output_type": "execute_result"
    }
   ],
   "source": [
    "lm_2021_log.params"
   ]
  },
  {
   "cell_type": "code",
   "execution_count": 21,
   "id": "d39d4f09-4bf1-4e49-a4ce-eff53f3e41e1",
   "metadata": {},
   "outputs": [
    {
     "data": {
      "text/html": [
       "<table class=\"simpletable\">\n",
       "<caption>OLS Regression Results</caption>\n",
       "<tr>\n",
       "  <th>Dep. Variable:</th>     <td>Life_Expectancy</td> <th>  R-squared:         </th> <td>   0.717</td>\n",
       "</tr>\n",
       "<tr>\n",
       "  <th>Model:</th>                   <td>OLS</td>       <th>  Adj. R-squared:    </th> <td>   0.715</td>\n",
       "</tr>\n",
       "<tr>\n",
       "  <th>Method:</th>             <td>Least Squares</td>  <th>  F-statistic:       </th> <td>   432.6</td>\n",
       "</tr>\n",
       "<tr>\n",
       "  <th>Date:</th>             <td>Tue, 28 Oct 2025</td> <th>  Prob (F-statistic):</th> <td>1.06e-48</td>\n",
       "</tr>\n",
       "<tr>\n",
       "  <th>Time:</th>                 <td>20:57:53</td>     <th>  Log-Likelihood:    </th> <td> -490.22</td>\n",
       "</tr>\n",
       "<tr>\n",
       "  <th>No. Observations:</th>      <td>   173</td>      <th>  AIC:               </th> <td>   984.4</td>\n",
       "</tr>\n",
       "<tr>\n",
       "  <th>Df Residuals:</th>          <td>   171</td>      <th>  BIC:               </th> <td>   990.7</td>\n",
       "</tr>\n",
       "<tr>\n",
       "  <th>Df Model:</th>              <td>     1</td>      <th>                     </th>     <td> </td>   \n",
       "</tr>\n",
       "<tr>\n",
       "  <th>Covariance Type:</th>      <td>nonrobust</td>    <th>                     </th>     <td> </td>   \n",
       "</tr>\n",
       "</table>\n",
       "<table class=\"simpletable\">\n",
       "<tr>\n",
       "              <td></td>                 <th>coef</th>     <th>std err</th>      <th>t</th>      <th>P>|t|</th>  <th>[0.025</th>    <th>0.975]</th>  \n",
       "</tr>\n",
       "<tr>\n",
       "  <th>Intercept</th>                 <td>   18.9470</td> <td>    2.547</td> <td>    7.438</td> <td> 0.000</td> <td>   13.919</td> <td>   23.975</td>\n",
       "</tr>\n",
       "<tr>\n",
       "  <th>I(np.log(GDP_Per_Capita))</th> <td>    5.5890</td> <td>    0.269</td> <td>   20.798</td> <td> 0.000</td> <td>    5.059</td> <td>    6.119</td>\n",
       "</tr>\n",
       "</table>\n",
       "<table class=\"simpletable\">\n",
       "<tr>\n",
       "  <th>Omnibus:</th>       <td>16.862</td> <th>  Durbin-Watson:     </th> <td>   1.974</td>\n",
       "</tr>\n",
       "<tr>\n",
       "  <th>Prob(Omnibus):</th> <td> 0.000</td> <th>  Jarque-Bera (JB):  </th> <td>  18.922</td>\n",
       "</tr>\n",
       "<tr>\n",
       "  <th>Skew:</th>          <td>-0.725</td> <th>  Prob(JB):          </th> <td>7.78e-05</td>\n",
       "</tr>\n",
       "<tr>\n",
       "  <th>Kurtosis:</th>      <td> 3.725</td> <th>  Cond. No.          </th> <td>    77.6</td>\n",
       "</tr>\n",
       "</table><br/><br/>Notes:<br/>[1] Standard Errors assume that the covariance matrix of the errors is correctly specified."
      ],
      "text/latex": [
       "\\begin{center}\n",
       "\\begin{tabular}{lclc}\n",
       "\\toprule\n",
       "\\textbf{Dep. Variable:}              & Life\\_Expectancy & \\textbf{  R-squared:         } &     0.717   \\\\\n",
       "\\textbf{Model:}                      &       OLS        & \\textbf{  Adj. R-squared:    } &     0.715   \\\\\n",
       "\\textbf{Method:}                     &  Least Squares   & \\textbf{  F-statistic:       } &     432.6   \\\\\n",
       "\\textbf{Date:}                       & Tue, 28 Oct 2025 & \\textbf{  Prob (F-statistic):} &  1.06e-48   \\\\\n",
       "\\textbf{Time:}                       &     20:57:53     & \\textbf{  Log-Likelihood:    } &   -490.22   \\\\\n",
       "\\textbf{No. Observations:}           &         173      & \\textbf{  AIC:               } &     984.4   \\\\\n",
       "\\textbf{Df Residuals:}               &         171      & \\textbf{  BIC:               } &     990.7   \\\\\n",
       "\\textbf{Df Model:}                   &           1      & \\textbf{                     } &             \\\\\n",
       "\\textbf{Covariance Type:}            &    nonrobust     & \\textbf{                     } &             \\\\\n",
       "\\bottomrule\n",
       "\\end{tabular}\n",
       "\\begin{tabular}{lcccccc}\n",
       "                                     & \\textbf{coef} & \\textbf{std err} & \\textbf{t} & \\textbf{P$> |$t$|$} & \\textbf{[0.025} & \\textbf{0.975]}  \\\\\n",
       "\\midrule\n",
       "\\textbf{Intercept}                   &      18.9470  &        2.547     &     7.438  &         0.000        &       13.919    &       23.975     \\\\\n",
       "\\textbf{I(np.log(GDP\\_Per\\_Capita))} &       5.5890  &        0.269     &    20.798  &         0.000        &        5.059    &        6.119     \\\\\n",
       "\\bottomrule\n",
       "\\end{tabular}\n",
       "\\begin{tabular}{lclc}\n",
       "\\textbf{Omnibus:}       & 16.862 & \\textbf{  Durbin-Watson:     } &    1.974  \\\\\n",
       "\\textbf{Prob(Omnibus):} &  0.000 & \\textbf{  Jarque-Bera (JB):  } &   18.922  \\\\\n",
       "\\textbf{Skew:}          & -0.725 & \\textbf{  Prob(JB):          } & 7.78e-05  \\\\\n",
       "\\textbf{Kurtosis:}      &  3.725 & \\textbf{  Cond. No.          } &     77.6  \\\\\n",
       "\\bottomrule\n",
       "\\end{tabular}\n",
       "%\\caption{OLS Regression Results}\n",
       "\\end{center}\n",
       "\n",
       "Notes: \\newline\n",
       " [1] Standard Errors assume that the covariance matrix of the errors is correctly specified."
      ],
      "text/plain": [
       "<class 'statsmodels.iolib.summary.Summary'>\n",
       "\"\"\"\n",
       "                            OLS Regression Results                            \n",
       "==============================================================================\n",
       "Dep. Variable:        Life_Expectancy   R-squared:                       0.717\n",
       "Model:                            OLS   Adj. R-squared:                  0.715\n",
       "Method:                 Least Squares   F-statistic:                     432.6\n",
       "Date:                Tue, 28 Oct 2025   Prob (F-statistic):           1.06e-48\n",
       "Time:                        20:57:53   Log-Likelihood:                -490.22\n",
       "No. Observations:                 173   AIC:                             984.4\n",
       "Df Residuals:                     171   BIC:                             990.7\n",
       "Df Model:                           1                                         \n",
       "Covariance Type:            nonrobust                                         \n",
       "=============================================================================================\n",
       "                                coef    std err          t      P>|t|      [0.025      0.975]\n",
       "---------------------------------------------------------------------------------------------\n",
       "Intercept                    18.9470      2.547      7.438      0.000      13.919      23.975\n",
       "I(np.log(GDP_Per_Capita))     5.5890      0.269     20.798      0.000       5.059       6.119\n",
       "==============================================================================\n",
       "Omnibus:                       16.862   Durbin-Watson:                   1.974\n",
       "Prob(Omnibus):                  0.000   Jarque-Bera (JB):               18.922\n",
       "Skew:                          -0.725   Prob(JB):                     7.78e-05\n",
       "Kurtosis:                       3.725   Cond. No.                         77.6\n",
       "==============================================================================\n",
       "\n",
       "Notes:\n",
       "[1] Standard Errors assume that the covariance matrix of the errors is correctly specified.\n",
       "\"\"\""
      ]
     },
     "execution_count": 21,
     "metadata": {},
     "output_type": "execute_result"
    }
   ],
   "source": [
    "lm_2021_log.summary()"
   ]
  },
  {
   "cell_type": "markdown",
   "id": "0936067a-4e1b-4603-bddc-ef0034b1a577",
   "metadata": {},
   "source": [
    "**Interpretations** \n",
    "\n",
    "The p-value(near zero) is statistically significant; therefore it is unlikely that the relationship between GDP per capita and life expectancy shown is due to chance. Lets look at our other linear regression statistics. \n",
    "\n",
    "**Notable Statistics**  \n",
    "- **Durbin-Watson** = 1.974  *a value near 2 indicates very little autocorrelation in the residuals, indicating independence in errors*  \n",
    "- **Jarque-Bera** = 18.922, **JB p-value** = 7.78e-05  *a high JB and a near zero p-value indicate that this data did not come from a normal distribution, meaning we'll need to further investigate.  \n",
    "- **Skew** = -0.725  *this indicates a slight left skew, which is not indicative of a normal distribution*  \n",
    "- **Kurtosis** = 3.725  *this indicates a leptokurtic distribution, meaning there is an increased likelihood that outliers are impacting the shape of the distribution* "
   ]
  },
  {
   "cell_type": "markdown",
   "id": "fa2437cb-5e36-413c-8549-f1bd0308202e",
   "metadata": {},
   "source": [
    "#### b. Interpret these coefficients. What does the model estimate for the average life expectancy for countries with a gdp per capita of 50,000 dollars? What about for those with a gdp per capita of 100,000 dollars? "
   ]
  },
  {
   "cell_type": "markdown",
   "id": "6ee66d27-d37d-43fd-94d2-f6a6b51db1d8",
   "metadata": {},
   "source": [
    "the predicted model is: $$Mean(Life\\_Expectancy) = 18.946970 + 5.589014(log(GDP\\_Per\\_Capita))$$  "
   ]
  },
  {
   "cell_type": "code",
   "execution_count": 22,
   "id": "34a6105c-c266-4516-bd4c-97f27ff1446f",
   "metadata": {},
   "outputs": [
    {
     "data": {
      "text/plain": [
       "[np.float64(79.41886072606525),\n",
       " np.float64(83.29286991695194),\n",
       " np.float64(1.048779460640327)]"
      ]
     },
     "execution_count": 22,
     "metadata": {},
     "output_type": "execute_result"
    }
   ],
   "source": [
    "predictor = lm_2021_log.params['I(np.log(GDP_Per_Capita))']\n",
    "intercept = lm_2021_log.params['Intercept']\n",
    "mean_le_50k_log = predictor * np.log(50000) + intercept\n",
    "mean_le_100k_log = predictor * np.log(100000) + intercept\n",
    "[mean_le_50k_log, mean_le_100k_log, (mean_le_100k_log/mean_le_50k_log)]"
   ]
  },
  {
   "cell_type": "code",
   "execution_count": 23,
   "id": "b703b2f8-4358-4fca-82f1-8a3b6a8bddf6",
   "metadata": {},
   "outputs": [
    {
     "name": "stdout",
     "output_type": "stream",
     "text": [
      " The estimate for the average life expectancy for countries with a gdp per capita of 50,000 dollars is 79.41886072606525 years.\n",
      " The estimate for the average life expectancy for countries with a gdp per capita of 100,000 dollars is 83.29286991695194 years.\n"
     ]
    }
   ],
   "source": [
    "print(f' The estimate for the average life expectancy for countries with a gdp per capita of 50,000 dollars is {mean_le_50k_log} years.')\n",
    "print(f' The estimate for the average life expectancy for countries with a gdp per capita of 100,000 dollars is {mean_le_100k_log} years.')"
   ]
  },
  {
   "cell_type": "markdown",
   "id": "eb1f2230-3d35-497c-a063-256e3ffab917",
   "metadata": {},
   "source": [
    "#### c. Plot the actual values compared to your models' estimates for the mean life expectancy. How does this compare to the non-logged model?"
   ]
  },
  {
   "cell_type": "code",
   "execution_count": 24,
   "id": "ecb44704-c041-4c53-8057-f2dd7bc55e17",
   "metadata": {},
   "outputs": [
    {
     "data": {
      "image/png": "[encoded data removed]",
      "text/plain": [
       "<Figure size 640x480 with 1 Axes>"
      ]
     },
     "metadata": {},
     "output_type": "display_data"
    }
   ],
   "source": [
    "mean_estimates_df = pd.DataFrame(\n",
    "    {'GDP_Per_Capita' : np.linspace(gdp_le_2021['GDP_Per_Capita'].min(), \n",
    "                                    gdp_le_2021['GDP_Per_Capita'].max())}\n",
    ")\n",
    "mean_estimates_df['Estimated_Mean'] = lm_2021_log.predict(mean_estimates_df)\n",
    "\n",
    "fig, ax = plt.subplots()\n",
    "gdp_le_2021.plot(kind = 'scatter', \n",
    "                 x= 'GDP_Per_Capita', \n",
    "                 y = 'Life_Expectancy', \n",
    "                 color = 'blue', \n",
    "                 ax=ax)\n",
    "mean_estimates_df.plot(x='GDP_Per_Capita', \n",
    "                       y='Estimated_Mean', \n",
    "                       ax=ax, \n",
    "                       color='red');"
   ]
  },
  {
   "cell_type": "code",
   "execution_count": 25,
   "id": "93916a31-9dec-4305-a94f-97bce6b7d72d",
   "metadata": {},
   "outputs": [
    {
     "data": {
      "image/png": "[encoded data removed]",
      "text/plain": [
       "<Figure size 640x480 with 1 Axes>"
      ]
     },
     "metadata": {},
     "output_type": "display_data"
    }
   ],
   "source": [
    "fig, ax = plt.subplots()\n",
    "gdp_le_2021.plot(kind = 'scatter', \n",
    "                 x= 'GDP_Per_Capita',\n",
    "                 y = 'Life_Expectancy', \n",
    "                 color = 'blue', \n",
    "                 ax=ax,\n",
    "                 logx=True)\n",
    "mean_estimates_df.plot(x='GDP_Per_Capita',\n",
    "                       y='Estimated_Mean',\n",
    "                       ax=ax, color='red', \n",
    "                       logx=True);"
   ]
  },
  {
   "cell_type": "markdown",
   "id": "2214fbba-e1eb-4d78-af95-c39397b0564b",
   "metadata": {},
   "source": [
    "### Finally, return to the full dataset."
   ]
  },
  {
   "cell_type": "markdown",
   "id": "fb46527f-5dfb-46a3-b4f0-3fe1cb12b71b",
   "metadata": {},
   "source": [
    "a. First, fit a linear regression model for life expectancy based on the log of gdp per capita. "
   ]
  },
  {
   "cell_type": "code",
   "execution_count": 26,
   "id": "53ea8f30-35d1-4f87-8698-0331985b9f58",
   "metadata": {},
   "outputs": [
    {
     "data": {
      "text/plain": [
       "Intercept             9.194102\n",
       "log_GDP_Per_Capita    6.531130\n",
       "dtype: float64"
      ]
     },
     "execution_count": 26,
     "metadata": {},
     "output_type": "execute_result"
    }
   ],
   "source": [
    "gdp_le['log_GDP_Per_Capita'] = np.log(gdp_le['GDP_Per_Capita'])\n",
    "log_gdp_lm= smf.ols(\"Life_Expectancy ~ log_GDP_Per_Capita\", data=gdp_le).fit()\n",
    "log_gdp_lm.params"
   ]
  },
  {
   "cell_type": "markdown",
   "id": "506a590c-e41f-410d-8f81-0037082d289c",
   "metadata": {},
   "source": [
    "b. Then, add the year variable to your model. How can you interpret the coefficient associated with year? What limitations or weaknesses might this model have?"
   ]
  },
  {
   "cell_type": "code",
   "execution_count": 27,
   "id": "71575093-8321-4c93-a175-9aadf15b8019",
   "metadata": {},
   "outputs": [
    {
     "data": {
      "text/plain": [
       "Intercept             8.561151\n",
       "log_GDP_Per_Capita    6.359936\n",
       "I(Year - 1990)        0.134487\n",
       "dtype: float64"
      ]
     },
     "execution_count": 27,
     "metadata": {},
     "output_type": "execute_result"
    }
   ],
   "source": [
    "log_gdp_lm_year= smf.ols(\"Life_Expectancy ~ log_GDP_Per_Capita + I(Year-1990)\", data=gdp_le).fit()\n",
    "log_gdp_lm_year.params"
   ]
  },
  {
   "cell_type": "code",
   "execution_count": 28,
   "id": "1a4c2e6a-2d7c-417a-a116-998dd4af840f",
   "metadata": {},
   "outputs": [
    {
     "data": {
      "text/html": [
       "<table class=\"simpletable\">\n",
       "<caption>OLS Regression Results</caption>\n",
       "<tr>\n",
       "  <th>Dep. Variable:</th>     <td>Life_Expectancy</td> <th>  R-squared:         </th> <td>   0.701</td> \n",
       "</tr>\n",
       "<tr>\n",
       "  <th>Model:</th>                   <td>OLS</td>       <th>  Adj. R-squared:    </th> <td>   0.701</td> \n",
       "</tr>\n",
       "<tr>\n",
       "  <th>Method:</th>             <td>Least Squares</td>  <th>  F-statistic:       </th> <td>1.288e+04</td>\n",
       "</tr>\n",
       "<tr>\n",
       "  <th>Date:</th>             <td>Tue, 28 Oct 2025</td> <th>  Prob (F-statistic):</th>  <td>  0.00</td>  \n",
       "</tr>\n",
       "<tr>\n",
       "  <th>Time:</th>                 <td>20:57:53</td>     <th>  Log-Likelihood:    </th> <td> -16834.</td> \n",
       "</tr>\n",
       "<tr>\n",
       "  <th>No. Observations:</th>      <td>  5504</td>      <th>  AIC:               </th> <td>3.367e+04</td>\n",
       "</tr>\n",
       "<tr>\n",
       "  <th>Df Residuals:</th>          <td>  5502</td>      <th>  BIC:               </th> <td>3.369e+04</td>\n",
       "</tr>\n",
       "<tr>\n",
       "  <th>Df Model:</th>              <td>     1</td>      <th>                     </th>     <td> </td>    \n",
       "</tr>\n",
       "<tr>\n",
       "  <th>Covariance Type:</th>      <td>nonrobust</td>    <th>                     </th>     <td> </td>    \n",
       "</tr>\n",
       "</table>\n",
       "<table class=\"simpletable\">\n",
       "<tr>\n",
       "           <td></td>             <th>coef</th>     <th>std err</th>      <th>t</th>      <th>P>|t|</th>  <th>[0.025</th>    <th>0.975]</th>  \n",
       "</tr>\n",
       "<tr>\n",
       "  <th>Intercept</th>          <td>    9.1941</td> <td>    0.532</td> <td>   17.297</td> <td> 0.000</td> <td>    8.152</td> <td>   10.236</td>\n",
       "</tr>\n",
       "<tr>\n",
       "  <th>log_GDP_Per_Capita</th> <td>    6.5311</td> <td>    0.058</td> <td>  113.506</td> <td> 0.000</td> <td>    6.418</td> <td>    6.644</td>\n",
       "</tr>\n",
       "</table>\n",
       "<table class=\"simpletable\">\n",
       "<tr>\n",
       "  <th>Omnibus:</th>       <td>1066.762</td> <th>  Durbin-Watson:     </th> <td>   0.096</td>\n",
       "</tr>\n",
       "<tr>\n",
       "  <th>Prob(Omnibus):</th>  <td> 0.000</td>  <th>  Jarque-Bera (JB):  </th> <td>2391.301</td>\n",
       "</tr>\n",
       "<tr>\n",
       "  <th>Skew:</th>           <td>-1.108</td>  <th>  Prob(JB):          </th> <td>    0.00</td>\n",
       "</tr>\n",
       "<tr>\n",
       "  <th>Kurtosis:</th>       <td> 5.349</td>  <th>  Cond. No.          </th> <td>    71.5</td>\n",
       "</tr>\n",
       "</table><br/><br/>Notes:<br/>[1] Standard Errors assume that the covariance matrix of the errors is correctly specified."
      ],
      "text/latex": [
       "\\begin{center}\n",
       "\\begin{tabular}{lclc}\n",
       "\\toprule\n",
       "\\textbf{Dep. Variable:}        & Life\\_Expectancy & \\textbf{  R-squared:         } &     0.701   \\\\\n",
       "\\textbf{Model:}                &       OLS        & \\textbf{  Adj. R-squared:    } &     0.701   \\\\\n",
       "\\textbf{Method:}               &  Least Squares   & \\textbf{  F-statistic:       } & 1.288e+04   \\\\\n",
       "\\textbf{Date:}                 & Tue, 28 Oct 2025 & \\textbf{  Prob (F-statistic):} &     0.00    \\\\\n",
       "\\textbf{Time:}                 &     20:57:53     & \\textbf{  Log-Likelihood:    } &   -16834.   \\\\\n",
       "\\textbf{No. Observations:}     &        5504      & \\textbf{  AIC:               } & 3.367e+04   \\\\\n",
       "\\textbf{Df Residuals:}         &        5502      & \\textbf{  BIC:               } & 3.369e+04   \\\\\n",
       "\\textbf{Df Model:}             &           1      & \\textbf{                     } &             \\\\\n",
       "\\textbf{Covariance Type:}      &    nonrobust     & \\textbf{                     } &             \\\\\n",
       "\\bottomrule\n",
       "\\end{tabular}\n",
       "\\begin{tabular}{lcccccc}\n",
       "                               & \\textbf{coef} & \\textbf{std err} & \\textbf{t} & \\textbf{P$> |$t$|$} & \\textbf{[0.025} & \\textbf{0.975]}  \\\\\n",
       "\\midrule\n",
       "\\textbf{Intercept}             &       9.1941  &        0.532     &    17.297  &         0.000        &        8.152    &       10.236     \\\\\n",
       "\\textbf{log\\_GDP\\_Per\\_Capita} &       6.5311  &        0.058     &   113.506  &         0.000        &        6.418    &        6.644     \\\\\n",
       "\\bottomrule\n",
       "\\end{tabular}\n",
       "\\begin{tabular}{lclc}\n",
       "\\textbf{Omnibus:}       & 1066.762 & \\textbf{  Durbin-Watson:     } &    0.096  \\\\\n",
       "\\textbf{Prob(Omnibus):} &   0.000  & \\textbf{  Jarque-Bera (JB):  } & 2391.301  \\\\\n",
       "\\textbf{Skew:}          &  -1.108  & \\textbf{  Prob(JB):          } &     0.00  \\\\\n",
       "\\textbf{Kurtosis:}      &   5.349  & \\textbf{  Cond. No.          } &     71.5  \\\\\n",
       "\\bottomrule\n",
       "\\end{tabular}\n",
       "%\\caption{OLS Regression Results}\n",
       "\\end{center}\n",
       "\n",
       "Notes: \\newline\n",
       " [1] Standard Errors assume that the covariance matrix of the errors is correctly specified."
      ],
      "text/plain": [
       "<class 'statsmodels.iolib.summary.Summary'>\n",
       "\"\"\"\n",
       "                            OLS Regression Results                            \n",
       "==============================================================================\n",
       "Dep. Variable:        Life_Expectancy   R-squared:                       0.701\n",
       "Model:                            OLS   Adj. R-squared:                  0.701\n",
       "Method:                 Least Squares   F-statistic:                 1.288e+04\n",
       "Date:                Tue, 28 Oct 2025   Prob (F-statistic):               0.00\n",
       "Time:                        20:57:53   Log-Likelihood:                -16834.\n",
       "No. Observations:                5504   AIC:                         3.367e+04\n",
       "Df Residuals:                    5502   BIC:                         3.369e+04\n",
       "Df Model:                           1                                         \n",
       "Covariance Type:            nonrobust                                         \n",
       "======================================================================================\n",
       "                         coef    std err          t      P>|t|      [0.025      0.975]\n",
       "--------------------------------------------------------------------------------------\n",
       "Intercept              9.1941      0.532     17.297      0.000       8.152      10.236\n",
       "log_GDP_Per_Capita     6.5311      0.058    113.506      0.000       6.418       6.644\n",
       "==============================================================================\n",
       "Omnibus:                     1066.762   Durbin-Watson:                   0.096\n",
       "Prob(Omnibus):                  0.000   Jarque-Bera (JB):             2391.301\n",
       "Skew:                          -1.108   Prob(JB):                         0.00\n",
       "Kurtosis:                       5.349   Cond. No.                         71.5\n",
       "==============================================================================\n",
       "\n",
       "Notes:\n",
       "[1] Standard Errors assume that the covariance matrix of the errors is correctly specified.\n",
       "\"\"\""
      ]
     },
     "execution_count": 28,
     "metadata": {},
     "output_type": "execute_result"
    }
   ],
   "source": [
    "log_gdp_lm.summary()"
   ]
  },
  {
   "cell_type": "code",
   "execution_count": 29,
   "id": "df8679f3-6e2c-4fc6-b9e4-e4b9c8b54b94",
   "metadata": {},
   "outputs": [
    {
     "data": {
      "text/html": [
       "<table class=\"simpletable\">\n",
       "<caption>OLS Regression Results</caption>\n",
       "<tr>\n",
       "  <th>Dep. Variable:</th>     <td>Life_Expectancy</td> <th>  R-squared:         </th> <td>   0.718</td> \n",
       "</tr>\n",
       "<tr>\n",
       "  <th>Model:</th>                   <td>OLS</td>       <th>  Adj. R-squared:    </th> <td>   0.718</td> \n",
       "</tr>\n",
       "<tr>\n",
       "  <th>Method:</th>             <td>Least Squares</td>  <th>  F-statistic:       </th> <td>   7014.</td> \n",
       "</tr>\n",
       "<tr>\n",
       "  <th>Date:</th>             <td>Tue, 28 Oct 2025</td> <th>  Prob (F-statistic):</th>  <td>  0.00</td>  \n",
       "</tr>\n",
       "<tr>\n",
       "  <th>Time:</th>                 <td>20:57:53</td>     <th>  Log-Likelihood:    </th> <td> -16668.</td> \n",
       "</tr>\n",
       "<tr>\n",
       "  <th>No. Observations:</th>      <td>  5504</td>      <th>  AIC:               </th> <td>3.334e+04</td>\n",
       "</tr>\n",
       "<tr>\n",
       "  <th>Df Residuals:</th>          <td>  5501</td>      <th>  BIC:               </th> <td>3.336e+04</td>\n",
       "</tr>\n",
       "<tr>\n",
       "  <th>Df Model:</th>              <td>     2</td>      <th>                     </th>     <td> </td>    \n",
       "</tr>\n",
       "<tr>\n",
       "  <th>Covariance Type:</th>      <td>nonrobust</td>    <th>                     </th>     <td> </td>    \n",
       "</tr>\n",
       "</table>\n",
       "<table class=\"simpletable\">\n",
       "<tr>\n",
       "           <td></td>             <th>coef</th>     <th>std err</th>      <th>t</th>      <th>P>|t|</th>  <th>[0.025</th>    <th>0.975]</th>  \n",
       "</tr>\n",
       "<tr>\n",
       "  <th>Intercept</th>          <td>    8.5612</td> <td>    0.517</td> <td>   16.563</td> <td> 0.000</td> <td>    7.548</td> <td>    9.574</td>\n",
       "</tr>\n",
       "<tr>\n",
       "  <th>log_GDP_Per_Capita</th> <td>    6.3599</td> <td>    0.057</td> <td>  112.387</td> <td> 0.000</td> <td>    6.249</td> <td>    6.471</td>\n",
       "</tr>\n",
       "<tr>\n",
       "  <th>I(Year - 1990)</th>     <td>    0.1345</td> <td>    0.007</td> <td>   18.525</td> <td> 0.000</td> <td>    0.120</td> <td>    0.149</td>\n",
       "</tr>\n",
       "</table>\n",
       "<table class=\"simpletable\">\n",
       "<tr>\n",
       "  <th>Omnibus:</th>       <td>1096.440</td> <th>  Durbin-Watson:     </th> <td>   0.088</td>\n",
       "</tr>\n",
       "<tr>\n",
       "  <th>Prob(Omnibus):</th>  <td> 0.000</td>  <th>  Jarque-Bera (JB):  </th> <td>2582.760</td>\n",
       "</tr>\n",
       "<tr>\n",
       "  <th>Skew:</th>           <td>-1.116</td>  <th>  Prob(JB):          </th> <td>    0.00</td>\n",
       "</tr>\n",
       "<tr>\n",
       "  <th>Kurtosis:</th>       <td> 5.506</td>  <th>  Cond. No.          </th> <td>    159.</td>\n",
       "</tr>\n",
       "</table><br/><br/>Notes:<br/>[1] Standard Errors assume that the covariance matrix of the errors is correctly specified."
      ],
      "text/latex": [
       "\\begin{center}\n",
       "\\begin{tabular}{lclc}\n",
       "\\toprule\n",
       "\\textbf{Dep. Variable:}        & Life\\_Expectancy & \\textbf{  R-squared:         } &     0.718   \\\\\n",
       "\\textbf{Model:}                &       OLS        & \\textbf{  Adj. R-squared:    } &     0.718   \\\\\n",
       "\\textbf{Method:}               &  Least Squares   & \\textbf{  F-statistic:       } &     7014.   \\\\\n",
       "\\textbf{Date:}                 & Tue, 28 Oct 2025 & \\textbf{  Prob (F-statistic):} &     0.00    \\\\\n",
       "\\textbf{Time:}                 &     20:57:53     & \\textbf{  Log-Likelihood:    } &   -16668.   \\\\\n",
       "\\textbf{No. Observations:}     &        5504      & \\textbf{  AIC:               } & 3.334e+04   \\\\\n",
       "\\textbf{Df Residuals:}         &        5501      & \\textbf{  BIC:               } & 3.336e+04   \\\\\n",
       "\\textbf{Df Model:}             &           2      & \\textbf{                     } &             \\\\\n",
       "\\textbf{Covariance Type:}      &    nonrobust     & \\textbf{                     } &             \\\\\n",
       "\\bottomrule\n",
       "\\end{tabular}\n",
       "\\begin{tabular}{lcccccc}\n",
       "                               & \\textbf{coef} & \\textbf{std err} & \\textbf{t} & \\textbf{P$> |$t$|$} & \\textbf{[0.025} & \\textbf{0.975]}  \\\\\n",
       "\\midrule\n",
       "\\textbf{Intercept}             &       8.5612  &        0.517     &    16.563  &         0.000        &        7.548    &        9.574     \\\\\n",
       "\\textbf{log\\_GDP\\_Per\\_Capita} &       6.3599  &        0.057     &   112.387  &         0.000        &        6.249    &        6.471     \\\\\n",
       "\\textbf{I(Year - 1990)}        &       0.1345  &        0.007     &    18.525  &         0.000        &        0.120    &        0.149     \\\\\n",
       "\\bottomrule\n",
       "\\end{tabular}\n",
       "\\begin{tabular}{lclc}\n",
       "\\textbf{Omnibus:}       & 1096.440 & \\textbf{  Durbin-Watson:     } &    0.088  \\\\\n",
       "\\textbf{Prob(Omnibus):} &   0.000  & \\textbf{  Jarque-Bera (JB):  } & 2582.760  \\\\\n",
       "\\textbf{Skew:}          &  -1.116  & \\textbf{  Prob(JB):          } &     0.00  \\\\\n",
       "\\textbf{Kurtosis:}      &   5.506  & \\textbf{  Cond. No.          } &     159.  \\\\\n",
       "\\bottomrule\n",
       "\\end{tabular}\n",
       "%\\caption{OLS Regression Results}\n",
       "\\end{center}\n",
       "\n",
       "Notes: \\newline\n",
       " [1] Standard Errors assume that the covariance matrix of the errors is correctly specified."
      ],
      "text/plain": [
       "<class 'statsmodels.iolib.summary.Summary'>\n",
       "\"\"\"\n",
       "                            OLS Regression Results                            \n",
       "==============================================================================\n",
       "Dep. Variable:        Life_Expectancy   R-squared:                       0.718\n",
       "Model:                            OLS   Adj. R-squared:                  0.718\n",
       "Method:                 Least Squares   F-statistic:                     7014.\n",
       "Date:                Tue, 28 Oct 2025   Prob (F-statistic):               0.00\n",
       "Time:                        20:57:53   Log-Likelihood:                -16668.\n",
       "No. Observations:                5504   AIC:                         3.334e+04\n",
       "Df Residuals:                    5501   BIC:                         3.336e+04\n",
       "Df Model:                           2                                         \n",
       "Covariance Type:            nonrobust                                         \n",
       "======================================================================================\n",
       "                         coef    std err          t      P>|t|      [0.025      0.975]\n",
       "--------------------------------------------------------------------------------------\n",
       "Intercept              8.5612      0.517     16.563      0.000       7.548       9.574\n",
       "log_GDP_Per_Capita     6.3599      0.057    112.387      0.000       6.249       6.471\n",
       "I(Year - 1990)         0.1345      0.007     18.525      0.000       0.120       0.149\n",
       "==============================================================================\n",
       "Omnibus:                     1096.440   Durbin-Watson:                   0.088\n",
       "Prob(Omnibus):                  0.000   Jarque-Bera (JB):             2582.760\n",
       "Skew:                          -1.116   Prob(JB):                         0.00\n",
       "Kurtosis:                       5.506   Cond. No.                         159.\n",
       "==============================================================================\n",
       "\n",
       "Notes:\n",
       "[1] Standard Errors assume that the covariance matrix of the errors is correctly specified.\n",
       "\"\"\""
      ]
     },
     "execution_count": 29,
     "metadata": {},
     "output_type": "execute_result"
    }
   ],
   "source": [
    "log_gdp_lm_year.summary()"
   ]
  },
  {
   "cell_type": "code",
   "execution_count": 30,
   "id": "a5644ec1-2f57-49d9-ac5b-c03f8251c1d3",
   "metadata": {},
   "outputs": [
    {
     "data": {
      "text/html": [
       "<div>\n",
       "<style scoped>\n",
       "    .dataframe tbody tr th:only-of-type {\n",
       "        vertical-align: middle;\n",
       "    }\n",
       "\n",
       "    .dataframe tbody tr th {\n",
       "        vertical-align: top;\n",
       "    }\n",
       "\n",
       "    .dataframe thead th {\n",
       "        text-align: right;\n",
       "    }\n",
       "</style>\n",
       "<table border=\"1\" class=\"dataframe\">\n",
       "  <thead>\n",
       "    <tr style=\"text-align: right;\">\n",
       "      <th></th>\n",
       "      <th>Year</th>\n",
       "      <th>Life_Expectancy</th>\n",
       "      <th>log_GDP_Per_Capita</th>\n",
       "    </tr>\n",
       "  </thead>\n",
       "  <tbody>\n",
       "    <tr>\n",
       "      <th>0</th>\n",
       "      <td>1990</td>\n",
       "      <td>64.745253</td>\n",
       "      <td>8.837510</td>\n",
       "    </tr>\n",
       "    <tr>\n",
       "      <th>1</th>\n",
       "      <td>1991</td>\n",
       "      <td>65.021276</td>\n",
       "      <td>8.834962</td>\n",
       "    </tr>\n",
       "    <tr>\n",
       "      <th>2</th>\n",
       "      <td>1992</td>\n",
       "      <td>65.217845</td>\n",
       "      <td>8.844434</td>\n",
       "    </tr>\n",
       "    <tr>\n",
       "      <th>3</th>\n",
       "      <td>1993</td>\n",
       "      <td>65.218031</td>\n",
       "      <td>8.838053</td>\n",
       "    </tr>\n",
       "    <tr>\n",
       "      <th>4</th>\n",
       "      <td>1994</td>\n",
       "      <td>65.339539</td>\n",
       "      <td>8.828003</td>\n",
       "    </tr>\n",
       "  </tbody>\n",
       "</table>\n",
       "</div>"
      ],
      "text/plain": [
       "   Year  Life_Expectancy  log_GDP_Per_Capita\n",
       "0  1990        64.745253            8.837510\n",
       "1  1991        65.021276            8.834962\n",
       "2  1992        65.217845            8.844434\n",
       "3  1993        65.218031            8.838053\n",
       "4  1994        65.339539            8.828003"
      ]
     },
     "execution_count": 30,
     "metadata": {},
     "output_type": "execute_result"
    }
   ],
   "source": [
    "means = gdp_le.groupby('Year')[['Life_Expectancy', 'log_GDP_Per_Capita']].mean().reset_index()\n",
    "means.head(5)"
   ]
  },
  {
   "cell_type": "code",
   "execution_count": 31,
   "id": "9b43f9cf-5784-461d-8759-4310ceede30e",
   "metadata": {},
   "outputs": [
    {
     "data": {
      "text/html": [
       "<div>\n",
       "<style scoped>\n",
       "    .dataframe tbody tr th:only-of-type {\n",
       "        vertical-align: middle;\n",
       "    }\n",
       "\n",
       "    .dataframe tbody tr th {\n",
       "        vertical-align: top;\n",
       "    }\n",
       "\n",
       "    .dataframe thead th {\n",
       "        text-align: right;\n",
       "    }\n",
       "</style>\n",
       "<table border=\"1\" class=\"dataframe\">\n",
       "  <thead>\n",
       "    <tr style=\"text-align: right;\">\n",
       "      <th></th>\n",
       "      <th>sum_sq</th>\n",
       "      <th>df</th>\n",
       "      <th>F</th>\n",
       "      <th>PR(&gt;F)</th>\n",
       "    </tr>\n",
       "  </thead>\n",
       "  <tbody>\n",
       "    <tr>\n",
       "      <th>log_GDP_Per_Capita</th>\n",
       "      <td>315865.086680</td>\n",
       "      <td>1.0</td>\n",
       "      <td>12630.817342</td>\n",
       "      <td>0.000000e+00</td>\n",
       "    </tr>\n",
       "    <tr>\n",
       "      <th>I(Year - 1990)</th>\n",
       "      <td>8582.183604</td>\n",
       "      <td>1.0</td>\n",
       "      <td>343.184474</td>\n",
       "      <td>2.273290e-74</td>\n",
       "    </tr>\n",
       "    <tr>\n",
       "      <th>Residual</th>\n",
       "      <td>137566.223531</td>\n",
       "      <td>5501.0</td>\n",
       "      <td>NaN</td>\n",
       "      <td>NaN</td>\n",
       "    </tr>\n",
       "  </tbody>\n",
       "</table>\n",
       "</div>"
      ],
      "text/plain": [
       "                           sum_sq      df             F        PR(>F)\n",
       "log_GDP_Per_Capita  315865.086680     1.0  12630.817342  0.000000e+00\n",
       "I(Year - 1990)        8582.183604     1.0    343.184474  2.273290e-74\n",
       "Residual            137566.223531  5501.0           NaN           NaN"
      ]
     },
     "metadata": {},
     "output_type": "display_data"
    },
    {
     "data": {
      "text/html": [
       "<div>\n",
       "<style scoped>\n",
       "    .dataframe tbody tr th:only-of-type {\n",
       "        vertical-align: middle;\n",
       "    }\n",
       "\n",
       "    .dataframe tbody tr th {\n",
       "        vertical-align: top;\n",
       "    }\n",
       "\n",
       "    .dataframe thead th {\n",
       "        text-align: right;\n",
       "    }\n",
       "</style>\n",
       "<table border=\"1\" class=\"dataframe\">\n",
       "  <thead>\n",
       "    <tr style=\"text-align: right;\">\n",
       "      <th></th>\n",
       "      <th>df_resid</th>\n",
       "      <th>ssr</th>\n",
       "      <th>df_diff</th>\n",
       "      <th>ss_diff</th>\n",
       "      <th>F</th>\n",
       "      <th>Pr(&gt;F)</th>\n",
       "    </tr>\n",
       "  </thead>\n",
       "  <tbody>\n",
       "    <tr>\n",
       "      <th>0</th>\n",
       "      <td>5502.0</td>\n",
       "      <td>146148.407135</td>\n",
       "      <td>0.0</td>\n",
       "      <td>NaN</td>\n",
       "      <td>NaN</td>\n",
       "      <td>NaN</td>\n",
       "    </tr>\n",
       "    <tr>\n",
       "      <th>1</th>\n",
       "      <td>5501.0</td>\n",
       "      <td>137566.223531</td>\n",
       "      <td>1.0</td>\n",
       "      <td>8582.183604</td>\n",
       "      <td>343.184474</td>\n",
       "      <td>2.273290e-74</td>\n",
       "    </tr>\n",
       "  </tbody>\n",
       "</table>\n",
       "</div>"
      ],
      "text/plain": [
       "   df_resid            ssr  df_diff      ss_diff           F        Pr(>F)\n",
       "0    5502.0  146148.407135      0.0          NaN         NaN           NaN\n",
       "1    5501.0  137566.223531      1.0  8582.183604  343.184474  2.273290e-74"
      ]
     },
     "metadata": {},
     "output_type": "display_data"
    }
   ],
   "source": [
    "display(sms.anova_lm(log_gdp_lm_year, typ=2))\n",
    "display(sms.anova_lm(log_gdp_lm, log_gdp_lm_year))"
   ]
  },
  {
   "cell_type": "markdown",
   "id": "33f37351-8eb4-4ee8-bbd4-d5647dc4a858",
   "metadata": {},
   "source": [
    "Limitations: year only serves as a predictor and restricts the sample from being a random sample. It is not a random sample because our observations are not independent."
   ]
  },
  {
   "cell_type": "markdown",
   "id": "58bdc1de-7189-4a55-a136-277f9ca417b1",
   "metadata": {},
   "source": [
    "P-Value: indicates that it is statistically significant and the year is not a good predictor variable."
   ]
  },
  {
   "cell_type": "markdown",
   "id": "b1f49d04-e946-4a44-acf1-37ac2001b6f3",
   "metadata": {},
   "source": [
    "# Linear Regression Practice Stretch Questions\n",
    "\n",
    "#### 1. So far, we've looked at the effect of gdp per capita alone on life expectancy. Let's see what happens if we also consider the continent variable. For this question, return to the 2021 subset.  \n",
    "  "
   ]
  },
  {
   "cell_type": "code",
   "execution_count": 39,
   "id": "e455ac18-84b3-4a53-9a07-9478a8c50cec",
   "metadata": {},
   "outputs": [
    {
     "data": {
      "text/html": [
       "<div>\n",
       "<style scoped>\n",
       "    .dataframe tbody tr th:only-of-type {\n",
       "        vertical-align: middle;\n",
       "    }\n",
       "\n",
       "    .dataframe tbody tr th {\n",
       "        vertical-align: top;\n",
       "    }\n",
       "\n",
       "    .dataframe thead th {\n",
       "        text-align: right;\n",
       "    }\n",
       "</style>\n",
       "<table border=\"1\" class=\"dataframe\">\n",
       "  <thead>\n",
       "    <tr style=\"text-align: right;\">\n",
       "      <th></th>\n",
       "      <th>Country</th>\n",
       "      <th>Year</th>\n",
       "      <th>GDP_Per_Capita</th>\n",
       "      <th>Continent</th>\n",
       "      <th>Life_Expectancy</th>\n",
       "      <th>log_GDP_Per_Capita</th>\n",
       "    </tr>\n",
       "  </thead>\n",
       "  <tbody>\n",
       "    <tr>\n",
       "      <th>0</th>\n",
       "      <td>Afghanistan</td>\n",
       "      <td>2021</td>\n",
       "      <td>1517.016266</td>\n",
       "      <td>Asia</td>\n",
       "      <td>61.982</td>\n",
       "      <td>7.324501</td>\n",
       "    </tr>\n",
       "    <tr>\n",
       "      <th>21</th>\n",
       "      <td>Albania</td>\n",
       "      <td>2021</td>\n",
       "      <td>14595.944386</td>\n",
       "      <td>Europe</td>\n",
       "      <td>76.463</td>\n",
       "      <td>9.588499</td>\n",
       "    </tr>\n",
       "  </tbody>\n",
       "</table>\n",
       "</div>"
      ],
      "text/plain": [
       "        Country  Year  GDP_Per_Capita Continent  Life_Expectancy  \\\n",
       "0   Afghanistan  2021     1517.016266      Asia           61.982   \n",
       "21      Albania  2021    14595.944386    Europe           76.463   \n",
       "\n",
       "    log_GDP_Per_Capita  \n",
       "0             7.324501  \n",
       "21            9.588499  "
      ]
     },
     "execution_count": 39,
     "metadata": {},
     "output_type": "execute_result"
    }
   ],
   "source": [
    "gdp_le_2021['log_GDP_Per_Capita'] = np.log(gdp_le_2021['GDP_Per_Capita'])\n",
    "gdp_le_2021.head(2)"
   ]
  },
  {
   "cell_type": "markdown",
   "id": "9541a114-ef04-4c68-9333-e3bb7b39b356",
   "metadata": {},
   "source": [
    "  a. Fit a model for life expectancy using log of gdp per capita and continent. How does this compare to the model that just used log of gdp per capita? Interpret the meaning of the coefficients you get with this new model.  \n",
    " "
   ]
  },
  {
   "cell_type": "code",
   "execution_count": 41,
   "id": "750ef925-9d22-47f1-b21c-0ba378401c6c",
   "metadata": {},
   "outputs": [
    {
     "data": {
      "text/plain": [
       "Intercept                        25.883441\n",
       "I(Continent)[T.Asia]              5.183673\n",
       "I(Continent)[T.Europe]            5.104175\n",
       "I(Continent)[T.North America]     4.175711\n",
       "I(Continent)[T.Oceania]           4.765647\n",
       "I(Continent)[T.South America]     2.759830\n",
       "log_GDP_Per_Capita                4.484066\n",
       "dtype: float64"
      ]
     },
     "execution_count": 41,
     "metadata": {},
     "output_type": "execute_result"
    }
   ],
   "source": [
    "lm_2021_continents= smf.ols(\"Life_Expectancy ~ log_GDP_Per_Capita + I(Continent)\", data=gdp_le_2021).fit()\n",
    "lm_2021_continents.params"
   ]
  },
  {
   "cell_type": "code",
   "execution_count": 43,
   "id": "ef7c0a81-0ddb-4479-948c-20215bca3e7b",
   "metadata": {},
   "outputs": [
    {
     "data": {
      "text/html": [
       "<table class=\"simpletable\">\n",
       "<caption>OLS Regression Results</caption>\n",
       "<tr>\n",
       "  <th>Dep. Variable:</th>     <td>Life_Expectancy</td> <th>  R-squared:         </th> <td>   0.767</td>\n",
       "</tr>\n",
       "<tr>\n",
       "  <th>Model:</th>                   <td>OLS</td>       <th>  Adj. R-squared:    </th> <td>   0.759</td>\n",
       "</tr>\n",
       "<tr>\n",
       "  <th>Method:</th>             <td>Least Squares</td>  <th>  F-statistic:       </th> <td>   91.22</td>\n",
       "</tr>\n",
       "<tr>\n",
       "  <th>Date:</th>             <td>Tue, 28 Oct 2025</td> <th>  Prob (F-statistic):</th> <td>5.93e-50</td>\n",
       "</tr>\n",
       "<tr>\n",
       "  <th>Time:</th>                 <td>21:04:51</td>     <th>  Log-Likelihood:    </th> <td> -473.20</td>\n",
       "</tr>\n",
       "<tr>\n",
       "  <th>No. Observations:</th>      <td>   173</td>      <th>  AIC:               </th> <td>   960.4</td>\n",
       "</tr>\n",
       "<tr>\n",
       "  <th>Df Residuals:</th>          <td>   166</td>      <th>  BIC:               </th> <td>   982.5</td>\n",
       "</tr>\n",
       "<tr>\n",
       "  <th>Df Model:</th>              <td>     6</td>      <th>                     </th>     <td> </td>   \n",
       "</tr>\n",
       "<tr>\n",
       "  <th>Covariance Type:</th>      <td>nonrobust</td>    <th>                     </th>     <td> </td>   \n",
       "</tr>\n",
       "</table>\n",
       "<table class=\"simpletable\">\n",
       "<tr>\n",
       "                <td></td>                   <th>coef</th>     <th>std err</th>      <th>t</th>      <th>P>|t|</th>  <th>[0.025</th>    <th>0.975]</th>  \n",
       "</tr>\n",
       "<tr>\n",
       "  <th>Intercept</th>                     <td>   25.8834</td> <td>    2.885</td> <td>    8.973</td> <td> 0.000</td> <td>   20.188</td> <td>   31.579</td>\n",
       "</tr>\n",
       "<tr>\n",
       "  <th>I(Continent)[T.Asia]</th>          <td>    5.1837</td> <td>    0.958</td> <td>    5.408</td> <td> 0.000</td> <td>    3.291</td> <td>    7.076</td>\n",
       "</tr>\n",
       "<tr>\n",
       "  <th>I(Continent)[T.Europe]</th>        <td>    5.1042</td> <td>    1.104</td> <td>    4.625</td> <td> 0.000</td> <td>    2.925</td> <td>    7.283</td>\n",
       "</tr>\n",
       "<tr>\n",
       "  <th>I(Continent)[T.North America]</th> <td>    4.1757</td> <td>    1.083</td> <td>    3.854</td> <td> 0.000</td> <td>    2.037</td> <td>    6.315</td>\n",
       "</tr>\n",
       "<tr>\n",
       "  <th>I(Continent)[T.Oceania]</th>       <td>    4.7656</td> <td>    1.251</td> <td>    3.809</td> <td> 0.000</td> <td>    2.295</td> <td>    7.236</td>\n",
       "</tr>\n",
       "<tr>\n",
       "  <th>I(Continent)[T.South America]</th> <td>    2.7598</td> <td>    1.367</td> <td>    2.019</td> <td> 0.045</td> <td>    0.060</td> <td>    5.459</td>\n",
       "</tr>\n",
       "<tr>\n",
       "  <th>log_GDP_Per_Capita</th>            <td>    4.4841</td> <td>    0.343</td> <td>   13.056</td> <td> 0.000</td> <td>    3.806</td> <td>    5.162</td>\n",
       "</tr>\n",
       "</table>\n",
       "<table class=\"simpletable\">\n",
       "<tr>\n",
       "  <th>Omnibus:</th>       <td> 2.686</td> <th>  Durbin-Watson:     </th> <td>   1.985</td>\n",
       "</tr>\n",
       "<tr>\n",
       "  <th>Prob(Omnibus):</th> <td> 0.261</td> <th>  Jarque-Bera (JB):  </th> <td>   2.693</td>\n",
       "</tr>\n",
       "<tr>\n",
       "  <th>Skew:</th>          <td>-0.298</td> <th>  Prob(JB):          </th> <td>   0.260</td>\n",
       "</tr>\n",
       "<tr>\n",
       "  <th>Kurtosis:</th>      <td> 2.863</td> <th>  Cond. No.          </th> <td>    102.</td>\n",
       "</tr>\n",
       "</table><br/><br/>Notes:<br/>[1] Standard Errors assume that the covariance matrix of the errors is correctly specified."
      ],
      "text/latex": [
       "\\begin{center}\n",
       "\\begin{tabular}{lclc}\n",
       "\\toprule\n",
       "\\textbf{Dep. Variable:}                & Life\\_Expectancy & \\textbf{  R-squared:         } &     0.767   \\\\\n",
       "\\textbf{Model:}                        &       OLS        & \\textbf{  Adj. R-squared:    } &     0.759   \\\\\n",
       "\\textbf{Method:}                       &  Least Squares   & \\textbf{  F-statistic:       } &     91.22   \\\\\n",
       "\\textbf{Date:}                         & Tue, 28 Oct 2025 & \\textbf{  Prob (F-statistic):} &  5.93e-50   \\\\\n",
       "\\textbf{Time:}                         &     21:04:51     & \\textbf{  Log-Likelihood:    } &   -473.20   \\\\\n",
       "\\textbf{No. Observations:}             &         173      & \\textbf{  AIC:               } &     960.4   \\\\\n",
       "\\textbf{Df Residuals:}                 &         166      & \\textbf{  BIC:               } &     982.5   \\\\\n",
       "\\textbf{Df Model:}                     &           6      & \\textbf{                     } &             \\\\\n",
       "\\textbf{Covariance Type:}              &    nonrobust     & \\textbf{                     } &             \\\\\n",
       "\\bottomrule\n",
       "\\end{tabular}\n",
       "\\begin{tabular}{lcccccc}\n",
       "                                       & \\textbf{coef} & \\textbf{std err} & \\textbf{t} & \\textbf{P$> |$t$|$} & \\textbf{[0.025} & \\textbf{0.975]}  \\\\\n",
       "\\midrule\n",
       "\\textbf{Intercept}                     &      25.8834  &        2.885     &     8.973  &         0.000        &       20.188    &       31.579     \\\\\n",
       "\\textbf{I(Continent)[T.Asia]}          &       5.1837  &        0.958     &     5.408  &         0.000        &        3.291    &        7.076     \\\\\n",
       "\\textbf{I(Continent)[T.Europe]}        &       5.1042  &        1.104     &     4.625  &         0.000        &        2.925    &        7.283     \\\\\n",
       "\\textbf{I(Continent)[T.North America]} &       4.1757  &        1.083     &     3.854  &         0.000        &        2.037    &        6.315     \\\\\n",
       "\\textbf{I(Continent)[T.Oceania]}       &       4.7656  &        1.251     &     3.809  &         0.000        &        2.295    &        7.236     \\\\\n",
       "\\textbf{I(Continent)[T.South America]} &       2.7598  &        1.367     &     2.019  &         0.045        &        0.060    &        5.459     \\\\\n",
       "\\textbf{log\\_GDP\\_Per\\_Capita}         &       4.4841  &        0.343     &    13.056  &         0.000        &        3.806    &        5.162     \\\\\n",
       "\\bottomrule\n",
       "\\end{tabular}\n",
       "\\begin{tabular}{lclc}\n",
       "\\textbf{Omnibus:}       &  2.686 & \\textbf{  Durbin-Watson:     } &    1.985  \\\\\n",
       "\\textbf{Prob(Omnibus):} &  0.261 & \\textbf{  Jarque-Bera (JB):  } &    2.693  \\\\\n",
       "\\textbf{Skew:}          & -0.298 & \\textbf{  Prob(JB):          } &    0.260  \\\\\n",
       "\\textbf{Kurtosis:}      &  2.863 & \\textbf{  Cond. No.          } &     102.  \\\\\n",
       "\\bottomrule\n",
       "\\end{tabular}\n",
       "%\\caption{OLS Regression Results}\n",
       "\\end{center}\n",
       "\n",
       "Notes: \\newline\n",
       " [1] Standard Errors assume that the covariance matrix of the errors is correctly specified."
      ],
      "text/plain": [
       "<class 'statsmodels.iolib.summary.Summary'>\n",
       "\"\"\"\n",
       "                            OLS Regression Results                            \n",
       "==============================================================================\n",
       "Dep. Variable:        Life_Expectancy   R-squared:                       0.767\n",
       "Model:                            OLS   Adj. R-squared:                  0.759\n",
       "Method:                 Least Squares   F-statistic:                     91.22\n",
       "Date:                Tue, 28 Oct 2025   Prob (F-statistic):           5.93e-50\n",
       "Time:                        21:04:51   Log-Likelihood:                -473.20\n",
       "No. Observations:                 173   AIC:                             960.4\n",
       "Df Residuals:                     166   BIC:                             982.5\n",
       "Df Model:                           6                                         \n",
       "Covariance Type:            nonrobust                                         \n",
       "=================================================================================================\n",
       "                                    coef    std err          t      P>|t|      [0.025      0.975]\n",
       "-------------------------------------------------------------------------------------------------\n",
       "Intercept                        25.8834      2.885      8.973      0.000      20.188      31.579\n",
       "I(Continent)[T.Asia]              5.1837      0.958      5.408      0.000       3.291       7.076\n",
       "I(Continent)[T.Europe]            5.1042      1.104      4.625      0.000       2.925       7.283\n",
       "I(Continent)[T.North America]     4.1757      1.083      3.854      0.000       2.037       6.315\n",
       "I(Continent)[T.Oceania]           4.7656      1.251      3.809      0.000       2.295       7.236\n",
       "I(Continent)[T.South America]     2.7598      1.367      2.019      0.045       0.060       5.459\n",
       "log_GDP_Per_Capita                4.4841      0.343     13.056      0.000       3.806       5.162\n",
       "==============================================================================\n",
       "Omnibus:                        2.686   Durbin-Watson:                   1.985\n",
       "Prob(Omnibus):                  0.261   Jarque-Bera (JB):                2.693\n",
       "Skew:                          -0.298   Prob(JB):                        0.260\n",
       "Kurtosis:                       2.863   Cond. No.                         102.\n",
       "==============================================================================\n",
       "\n",
       "Notes:\n",
       "[1] Standard Errors assume that the covariance matrix of the errors is correctly specified.\n",
       "\"\"\""
      ]
     },
     "execution_count": 43,
     "metadata": {},
     "output_type": "execute_result"
    }
   ],
   "source": [
    "lm_2021_continents.summary()"
   ]
  },
  {
   "cell_type": "markdown",
   "id": "68bdf318-16ef-4378-aa51-89ee7206d164",
   "metadata": {},
   "source": [
    "##### The coefficients each have their own starting point if we were to graph them. They are all statistically significant because they are near zero. "
   ]
  },
  {
   "cell_type": "markdown",
   "id": "10a8ab52-cbf2-4a55-af49-f7b16a82db54",
   "metadata": {},
   "source": [
    "   b. Now, add an interaction term between continent and log gdp per capita. Are the interaction terms statistically significant? Interpret the meaning of the interaction terms."
   ]
  },
  {
   "cell_type": "code",
   "execution_count": null,
   "id": "69090dc8-2a12-410f-97c5-23c13bbefcd4",
   "metadata": {},
   "outputs": [],
   "source": []
  },
  {
   "cell_type": "markdown",
   "id": "152d2d27-b3c2-416b-a493-44a9df8b2f97",
   "metadata": {},
   "source": [
    "#### 2. The data that we are working with is time series data, which means that it contains measurements of the same variable collected over time. This can lead to violations of the linear regression model assumptions. Namely, the errors may not be independent. Let's investigate further and see how this could be corrected by restructuring our model.  \n",
    "  "
   ]
  },
  {
   "cell_type": "markdown",
   "id": "fc342ae3-ebc0-444e-84bb-ceb008a854f9",
   "metadata": {},
   "source": [
    "  a. Fit a linear regression model with target being gdp per capita and predictor being year using just the data for the United States."
   ]
  },
  {
   "cell_type": "code",
   "execution_count": 48,
   "id": "b7a9c30e-db4b-4c25-a406-ebbd15ad880c",
   "metadata": {},
   "outputs": [],
   "source": [
    "USA = gdp_le[gdp_le['Country'] == 'United States']"
   ]
  },
  {
   "cell_type": "code",
   "execution_count": 49,
   "id": "e2c51c97-e8bc-4b5c-a4d3-70c1d669e793",
   "metadata": {},
   "outputs": [
    {
     "data": {
      "text/plain": [
       "Intercept   -119.536160\n",
       "Year           0.098117\n",
       "dtype: float64"
      ]
     },
     "execution_count": 49,
     "metadata": {},
     "output_type": "execute_result"
    }
   ],
   "source": [
    "lm_USA= smf.ols(\"Life_Expectancy ~ Year\", data=USA).fit()\n",
    "lm_USA.params"
   ]
  },
  {
   "cell_type": "markdown",
   "id": "ae939f24-aee0-4692-bda4-14d93aa47daa",
   "metadata": {},
   "source": [
    "b. Inspect the residuals for this model. Look at the correlation between the residual for a given year and the residual for the next year. Is there a statistically significant correlation?"
   ]
  },
  {
   "cell_type": "code",
   "execution_count": 50,
   "id": "e6b8ea4b-2ecd-425b-b24d-fa3b03bd47c7",
   "metadata": {},
   "outputs": [
    {
     "name": "stdout",
     "output_type": "stream",
     "text": [
      "                            OLS Regression Results                            \n",
      "==============================================================================\n",
      "Dep. Variable:        Life_Expectancy   R-squared:                       0.616\n",
      "Model:                            OLS   Adj. R-squared:                  0.604\n",
      "Method:                 Least Squares   F-statistic:                     49.80\n",
      "Date:                Tue, 28 Oct 2025   Prob (F-statistic):           6.32e-08\n",
      "Time:                        21:29:12   Log-Likelihood:                -36.758\n",
      "No. Observations:                  33   AIC:                             77.52\n",
      "Df Residuals:                      31   BIC:                             80.51\n",
      "Df Model:                           1                                         \n",
      "Covariance Type:            nonrobust                                         \n",
      "==============================================================================\n",
      "                 coef    std err          t      P>|t|      [0.025      0.975]\n",
      "------------------------------------------------------------------------------\n",
      "Intercept   -119.5362     27.890     -4.286      0.000    -176.419     -62.654\n",
      "Year           0.0981      0.014      7.057      0.000       0.070       0.126\n",
      "==============================================================================\n",
      "Omnibus:                       15.630   Durbin-Watson:                   0.332\n",
      "Prob(Omnibus):                  0.000   Jarque-Bera (JB):               17.448\n",
      "Skew:                          -1.409   Prob(JB):                     0.000163\n",
      "Kurtosis:                       5.178   Cond. No.                     4.23e+05\n",
      "==============================================================================\n",
      "\n",
      "Notes:\n",
      "[1] Standard Errors assume that the covariance matrix of the errors is correctly specified.\n",
      "[2] The condition number is large, 4.23e+05. This might indicate that there are\n",
      "strong multicollinearity or other numerical problems.\n",
      "Breusch-Pagan: (np.float64(7.573670197815385), np.float64(0.005922705954032255), np.float64(9.23388385027966), np.float64(0.004793016412690622))\n",
      "Jarque-Bera: (np.float64(17.44754908567608), np.float64(0.00016267201815312735), np.float64(-1.4092111037845039), np.float64(5.17844505729345))\n",
      "Durbin-Watson: 0.3319066317838663\n",
      "Omnibus: NormaltestResult(statistic=np.float64(15.630006012174643), pvalue=np.float64(0.00040363360650630696))\n"
     ]
    }
   ],
   "source": [
    "print(lm_USA.summary())\n",
    "print(f'Breusch-Pagan: {sms.het_breuschpagan(lm_USA.resid, lm_USA.model.exog)}');\n",
    "print(f'Jarque-Bera: {sms.jarque_bera(lm_USA.resid)}');\n",
    "print(f'Durbin-Watson: {sms.durbin_watson(lm_USA.resid)}');\n",
    "print(f'Omnibus: {sms.omni_normtest(lm_USA.resid)}');"
   ]
  },
  {
   "cell_type": "markdown",
   "id": "3bedca78-7a8a-489f-8894-8a70a72b2230",
   "metadata": {},
   "source": [
    "c. A common technique for modeling time series data is the [ARIMA model](https://en.wikipedia.org/wiki/Autoregressive_integrated_moving_average). For an in-depth discussion of ARIMA models, see https://otexts.com/fpp2/arima.html. The first thing to check is whether we have a stationary series. This can be done using the [Augmented Dickey-Fuller test](https://www.statsmodels.org/dev/generated/statsmodels.tsa.stattools.adfuller.html). We want to reject the null hypothesis before we proceed, because failing to reject implies that the series is not stationary. Run the adfuller test on the gdp per capita values for the US."
   ]
  },
  {
   "cell_type": "code",
   "execution_count": null,
   "id": "0000bde3-76df-4f09-99c6-2321574f2f40",
   "metadata": {},
   "outputs": [],
   "source": []
  },
  {
   "cell_type": "markdown",
   "id": "f2546968-6b4d-4dfc-8592-9df23e26ddda",
   "metadata": {},
   "source": [
    "d. If a series is not stationary, it can be replaced by the series of differences from one time period to the next. See if the series of differences in stationary. Plot the series of differences and run the adfuller test."
   ]
  },
  {
   "cell_type": "code",
   "execution_count": null,
   "id": "ed08523b-9306-462f-a0ce-7b0786e56dda",
   "metadata": {},
   "outputs": [],
   "source": []
  },
  {
   "cell_type": "markdown",
   "id": "86b1489f-a3d7-40ef-ad96-7f700e77b30f",
   "metadata": {},
   "source": [
    "e. Since the series of differences is stationary, we know that we need an integration term of 1. You also want to check the autocorrelation function, which can be done using the [plot_acf function](https://www.statsmodels.org/dev/generated/statsmodels.graphics.tsaplots.plot_acf.html#statsmodels.graphics.tsaplots.plot_acf). Are there any significant autocorrelations? "
   ]
  },
  {
   "cell_type": "code",
   "execution_count": null,
   "id": "9ef1e8f5-b75d-4c5c-9a89-e703afd3140c",
   "metadata": {},
   "outputs": [],
   "source": []
  },
  {
   "cell_type": "markdown",
   "id": "45003322-ec5f-40d5-b8e6-b1ec944ee304",
   "metadata": {},
   "source": [
    "f. Since there were not significant autocorrelations, an ARIMA(0,1,0) model may be appropriate. Try fitting an ARIMA(0,1,0) model using https://www.statsmodels.org/dev/generated/statsmodels.tsa.arima.model.ARIMA.html#statsmodels.tsa.arima.model.ARIMA. Try one with no trend and one with a linear trend (using the trend parameter). Compare these models on the basis of the [AIC](https://en.wikipedia.org/wiki/Akaike_information_criterion). Which does better?"
   ]
  },
  {
   "cell_type": "code",
   "execution_count": null,
   "id": "95431f57-7422-4e18-bec8-7f2f68635eda",
   "metadata": {},
   "outputs": [],
   "source": []
  },
  {
   "cell_type": "markdown",
   "id": "d5ef22f6-5686-4a3d-8bf0-550d0450f76d",
   "metadata": {},
   "source": [
    "g. Compare the estimate and confidence interval for the trend from the ordinary least squares regression model and the ARIMA model. Which has a greater standard error?"
   ]
  },
  {
   "cell_type": "code",
   "execution_count": null,
   "id": "d972fd3d-f326-4137-af89-9a917479f2ee",
   "metadata": {},
   "outputs": [],
   "source": []
  },
  {
   "cell_type": "markdown",
   "id": "d5c41628-e87d-4419-a09f-0f2e251befae",
   "metadata": {},
   "source": [
    "#### 3. Another way that we can model our data is using [fixed effects](https://theeffectbook.net/ch-FixedEffects.html), which allows us to control for all variables, whether they are observed or not. Let's say we want to isolate the effect of gdp per capita on life expectancy, after controlling for differences between countries. \n",
    " "
   ]
  },
  {
   "cell_type": "code",
   "execution_count": null,
   "id": "bac26441-924b-4edb-b0da-3f388d679fb8",
   "metadata": {},
   "outputs": [],
   "source": []
  },
  {
   "cell_type": "markdown",
   "id": "2d0c4653-010e-409f-aa63-15efb7a3eb27",
   "metadata": {},
   "source": [
    "   a. One way to do this is to fit a model which contains a dummy variable for each country. Do this and inspect the coefficient for log gdp per capita."
   ]
  },
  {
   "cell_type": "code",
   "execution_count": null,
   "id": "742e7882-f726-49dd-aec4-af52b9a590cc",
   "metadata": {},
   "outputs": [],
   "source": []
  },
  {
   "cell_type": "markdown",
   "id": "0034b8a6-9a55-43df-b016-0b3aed1a3024",
   "metadata": {},
   "source": [
    "    b. A second option is to convert our original variables (log gdp per capita and life expectancy) to the difference from the country-level mean for these varaiables. Hint: you may want to use groupby + transform in order to find the difference from the country-level mean for the variables. How does the coefficient for log gdp per capita compare to the one using a dummy variable for each country? "
   ]
  },
  {
   "cell_type": "code",
   "execution_count": null,
   "id": "40773877-672b-4594-bcc4-7224c9aa27de",
   "metadata": {},
   "outputs": [],
   "source": []
  },
  {
   "cell_type": "markdown",
   "id": "81f366f7-06e2-42fd-b255-d9d003a7a43a",
   "metadata": {},
   "source": [
    "#### 4. Finally, when working with panel data, it is common to use a linear mixed model. A good resource on mixed models is this set of course notes from Penn State University: https://online.stat.psu.edu/stat502_fa21/lesson/6 or Chapters 8 and 9 of [Beyond Multiple Linear Regression](https://bookdown.org/roback/bookdown-BeyondMLR/ch-multilevelintro.html).  \n",
    "    "
   ]
  },
  {
   "cell_type": "markdown",
   "id": "8ccfc6da-7d41-41cb-abc5-9b78af5c4e69",
   "metadata": {},
   "source": [
    "a. Fit a model for just the united states with predictor variable Year and target life expectancy. Inspect the parameters.  "
   ]
  },
  {
   "cell_type": "code",
   "execution_count": null,
   "id": "ccb1572b-83bd-4479-822d-59a00c7df2b2",
   "metadata": {},
   "outputs": [],
   "source": []
  },
  {
   "cell_type": "markdown",
   "id": "de3e3ab5-3b8b-4625-a70c-24f7c807683d",
   "metadata": {},
   "source": [
    "    b. Then iterate through all countries and gather up the parameters. Look at the distribution of model parameters across all countries.  "
   ]
  },
  {
   "cell_type": "code",
   "execution_count": null,
   "id": "dee0285e-825c-4a62-b19e-02f0d9d6b659",
   "metadata": {},
   "outputs": [],
   "source": []
  },
  {
   "cell_type": "markdown",
   "id": "80f3fed9-68ab-4fb7-bbe4-f05a388e513e",
   "metadata": {},
   "source": [
    "    c. Find the correlation between slope and intercept. What might this suggest?  "
   ]
  },
  {
   "cell_type": "code",
   "execution_count": null,
   "id": "e1515aad-64f9-497d-b679-1bd1f1786ba6",
   "metadata": {},
   "outputs": [],
   "source": []
  },
  {
   "cell_type": "markdown",
   "id": "07a0f1b4-ce81-4a30-b5eb-d43ab34d4634",
   "metadata": {},
   "source": [
    "    d. Group by continent and look at the distribution of slopes and intercepts. What do you notice?  "
   ]
  },
  {
   "cell_type": "code",
   "execution_count": null,
   "id": "37f0e489-f3e9-4c3f-b5c9-3963117ffa39",
   "metadata": {},
   "outputs": [],
   "source": []
  },
  {
   "cell_type": "markdown",
   "id": "5a691d42-1a7f-41d4-9720-32fb6e7584f3",
   "metadata": {},
   "source": [
    "    e. Using [mixedlm](https://www.statsmodels.org/stable/examples/notebooks/generated/mixed_lm_example.html) from statsmodels, fit a linear mixed effects model with groups being the country and random effects the year and log gdp per capita. Inspect the results and compare them to what you noticed above.  "
   ]
  },
  {
   "cell_type": "code",
   "execution_count": null,
   "id": "e3691ecb-38e0-4a7f-aab7-a81e8a49eac1",
   "metadata": {},
   "outputs": [],
   "source": []
  }
 ],
 "metadata": {
  "kernelspec": {
   "display_name": "Python [conda env:base] *",
   "language": "python",
   "name": "conda-base-py"
  },
  "language_info": {
   "codemirror_mode": {
    "name": "ipython",
    "version": 3
   },
   "file_extension": ".py",
   "mimetype": "text/x-python",
   "name": "python",
   "nbconvert_exporter": "python",
   "pygments_lexer": "ipython3",
   "version": "3.13.5"
  }
 },
 "nbformat": 4,
 "nbformat_minor": 5
}
